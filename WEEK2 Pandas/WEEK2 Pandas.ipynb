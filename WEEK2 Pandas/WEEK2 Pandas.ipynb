{
 "cells": [
  {
   "cell_type": "markdown",
   "id": "b3a5cfca",
   "metadata": {},
   "source": [
    "# Pandas Kütüphanesi\n"
   ]
  },
  {
   "cell_type": "markdown",
   "id": "9eb77bc3",
   "metadata": {},
   "source": [
    "Pandas, veri manipülasyonu ve analizi için kullanılan açık kaynaklı bir Python kütüphanesidir. Yapılandırılmış verilerle hızlı ve kolay çalışmak için veri yapıları ve işlevler sağlar.\n",
    "\n",
    "Pandas'taki iki ana veri yapısı Seri ve DataFrame'dir. Seri, herhangi bir veri türünü içerebilen tek boyutlu bir dizi benzeri nesnedir. DataFrame ise bir elektronik tabloya benzer şekilde, satırlar ve sütunlardan oluşan iki boyutlu bir tablo benzeri veri yapısıdır.\n"
   ]
  },
  {
   "cell_type": "code",
   "execution_count": 57,
   "id": "6b59e54c",
   "metadata": {},
   "outputs": [
    {
     "data": {
      "text/plain": [
       "(2, 3)"
      ]
     },
     "execution_count": 57,
     "metadata": {},
     "output_type": "execute_result"
    }
   ],
   "source": [
    "t = (1,2,3,4)\n",
    "\n",
    "t[1:3]"
   ]
  },
  {
   "cell_type": "code",
   "execution_count": 58,
   "id": "04e7915d",
   "metadata": {},
   "outputs": [
    {
     "name": "stdout",
     "output_type": "stream",
     "text": [
      "      name   age     note\n",
      "0      ali  12.0    123.0\n",
      "1     veli  34.0    456.0\n",
      "2  zübeyde  56.0     78.0\n",
      "3    ahmet  78.0  87654.0\n",
      "4    kubra   NaN      NaN\n",
      "5      can  12.0     89.0\n"
     ]
    }
   ],
   "source": [
    "\n",
    "import pandas as pd\n",
    "#Sözlük Yapısını DataFrame haline dönüştürmek mümkündür.\n",
    "\n",
    "dictionary = {\"name\":[\"ali\",\"veli\",\"zübeyde\",\"ahmet\",\"kubra\",\"can\"],\n",
    "             \"age\":[12,34,56,78,None,12],\n",
    "             \"note\":[123,456,78,87654,None,89]}\n",
    "\n",
    "dataframe1 = pd.DataFrame(dictionary) \n",
    "print(dataframe1)"
   ]
  },
  {
   "cell_type": "code",
   "execution_count": 59,
   "id": "b38a4db2",
   "metadata": {},
   "outputs": [
    {
     "name": "stdout",
     "output_type": "stream",
     "text": [
      "     sepal_length  sepal_width  petal_length  petal_width         species\n",
      "0             5.1          3.5           1.4          0.2     Iris-setosa\n",
      "1             4.9          3.0           1.4          0.2     Iris-setosa\n",
      "2             4.7          3.2           1.3          0.2     Iris-setosa\n",
      "3             4.6          3.1           1.5          0.2     Iris-setosa\n",
      "4             5.0          3.6           1.4          0.2     Iris-setosa\n",
      "..            ...          ...           ...          ...             ...\n",
      "145           6.7          3.0           5.2          2.3  Iris-virginica\n",
      "146           6.3          2.5           5.0          1.9  Iris-virginica\n",
      "147           6.5          3.0           5.2          2.0  Iris-virginica\n",
      "148           6.2          3.4           5.4          2.3  Iris-virginica\n",
      "149           5.9          3.0           5.1          1.8  Iris-virginica\n",
      "\n",
      "[150 rows x 5 columns]\n"
     ]
    }
   ],
   "source": [
    "import pandas as pd\n",
    "#Dosya ile aynı klasörde bulunan iris verisetini okuttuk.\n",
    "\n",
    "df = pd.read_csv(\"iris.csv\")\n",
    "\n",
    "print(df)"
   ]
  },
  {
   "cell_type": "code",
   "execution_count": 60,
   "id": "0dda3e1f",
   "metadata": {},
   "outputs": [
    {
     "name": "stdout",
     "output_type": "stream",
     "text": [
      "      name   age     note\n",
      "0      ali  12.0    123.0\n",
      "1     veli  34.0    456.0\n",
      "2  zübeyde  56.0     78.0\n",
      "3    ahmet  78.0  87654.0\n",
      "4    kubra   NaN      NaN\n"
     ]
    }
   ],
   "source": [
    "#Veri setimizin ilk beş satırını görebilmek için head() methodu kullanılır.\n",
    "\n",
    "head = dataframe1.head() \n",
    "print(head)"
   ]
  },
  {
   "cell_type": "code",
   "execution_count": 61,
   "id": "1a5be5ad",
   "metadata": {},
   "outputs": [
    {
     "name": "stdout",
     "output_type": "stream",
     "text": [
      "      name   age     note\n",
      "1     veli  34.0    456.0\n",
      "2  zübeyde  56.0     78.0\n",
      "3    ahmet  78.0  87654.0\n",
      "4    kubra   NaN      NaN\n",
      "5      can  12.0     89.0\n"
     ]
    }
   ],
   "source": [
    "##Veri setimizin son beş satırını görebilmek için tail() methodu kullanılır.\n",
    "\n",
    "tail = dataframe1.tail()\n",
    "print(tail)"
   ]
  },
  {
   "cell_type": "markdown",
   "id": "64ad1cc5",
   "metadata": {},
   "source": [
    "# Pandas'ın Methodları"
   ]
  },
  {
   "cell_type": "code",
   "execution_count": 62,
   "id": "11b23a13",
   "metadata": {},
   "outputs": [],
   "source": [
    "import numpy as np\n",
    "obje=pd.Series(np.arange(5),index=[\"a\",\"b\",\"c\",\"d\",\"e\"])\n"
   ]
  },
  {
   "cell_type": "code",
   "execution_count": 63,
   "id": "ecedca53",
   "metadata": {},
   "outputs": [
    {
     "data": {
      "text/plain": [
       "a    0\n",
       "b    1\n",
       "c    2\n",
       "d    3\n",
       "e    4\n",
       "dtype: int32"
      ]
     },
     "execution_count": 63,
     "metadata": {},
     "output_type": "execute_result"
    }
   ],
   "source": [
    "obje\n"
   ]
  },
  {
   "cell_type": "code",
   "execution_count": 64,
   "id": "684da317",
   "metadata": {},
   "outputs": [
    {
     "data": {
      "text/plain": [
       "2"
      ]
     },
     "execution_count": 64,
     "metadata": {},
     "output_type": "execute_result"
    }
   ],
   "source": [
    "obje[\"c\"]\n"
   ]
  },
  {
   "cell_type": "code",
   "execution_count": 65,
   "id": "295d22f8",
   "metadata": {},
   "outputs": [
    {
     "data": {
      "text/plain": [
       "2"
      ]
     },
     "execution_count": 65,
     "metadata": {},
     "output_type": "execute_result"
    }
   ],
   "source": [
    "obje[2]\n"
   ]
  },
  {
   "cell_type": "code",
   "execution_count": 66,
   "id": "caf186f8",
   "metadata": {},
   "outputs": [
    {
     "data": {
      "text/plain": [
       "a    0\n",
       "b    1\n",
       "c    2\n",
       "dtype: int32"
      ]
     },
     "execution_count": 66,
     "metadata": {},
     "output_type": "execute_result"
    }
   ],
   "source": [
    "#Veriyi dilimlemek istersek\n",
    "\n",
    "\n",
    "obje[0:3]\n"
   ]
  },
  {
   "cell_type": "code",
   "execution_count": 67,
   "id": "5d80037d",
   "metadata": {},
   "outputs": [
    {
     "data": {
      "text/plain": [
       "a    0\n",
       "c    2\n",
       "dtype: int32"
      ]
     },
     "execution_count": 67,
     "metadata": {},
     "output_type": "execute_result"
    }
   ],
   "source": [
    "#Belirli satırları almak istersek\n",
    "\n",
    "obje[[\"a\",\"c\"]]\n"
   ]
  },
  {
   "cell_type": "code",
   "execution_count": 68,
   "id": "45bcd5a3",
   "metadata": {},
   "outputs": [
    {
     "data": {
      "text/plain": [
       "a    0\n",
       "c    2\n",
       "dtype: int32"
      ]
     },
     "execution_count": 68,
     "metadata": {},
     "output_type": "execute_result"
    }
   ],
   "source": [
    "obje[[0,2]]\n"
   ]
  },
  {
   "cell_type": "code",
   "execution_count": 69,
   "id": "d0a66510",
   "metadata": {},
   "outputs": [
    {
     "data": {
      "text/plain": [
       "a    0\n",
       "b    1\n",
       "dtype: int32"
      ]
     },
     "execution_count": 69,
     "metadata": {},
     "output_type": "execute_result"
    }
   ],
   "source": [
    "#İkiden küçük değerleri ekrana yazdırmak için\n",
    "\n",
    "obje[obje<2]\n",
    "\n"
   ]
  },
  {
   "cell_type": "code",
   "execution_count": 70,
   "id": "5a76c134",
   "metadata": {},
   "outputs": [
    {
     "data": {
      "text/plain": [
       "a    0\n",
       "b    1\n",
       "c    2\n",
       "d    3\n",
       "dtype: int32"
      ]
     },
     "execution_count": 70,
     "metadata": {},
     "output_type": "execute_result"
    }
   ],
   "source": [
    "#Etiket dilimlemesi normal Python dilimlemesinden farklıdır. Etiket dilimlemesinde son nokta dilimlemeye dahildir.\n",
    "\n",
    "obje[\"a\":\"d\"]\n",
    "\n"
   ]
  },
  {
   "cell_type": "code",
   "execution_count": 71,
   "id": "cd501226",
   "metadata": {},
   "outputs": [
    {
     "data": {
      "text/plain": [
       "a    0\n",
       "b    0\n",
       "c    0\n",
       "d    0\n",
       "e    4\n",
       "dtype: int32"
      ]
     },
     "execution_count": 71,
     "metadata": {},
     "output_type": "execute_result"
    }
   ],
   "source": [
    "#Dilimlenen kısıma değer ataması yapabiliriz.\n",
    "\n",
    "obje[\"a\":\"d\"]=0\n",
    "obje"
   ]
  },
  {
   "cell_type": "markdown",
   "id": "d80bb591",
   "metadata": {},
   "source": [
    "# DataFrame İçin Veri Dilimleme\n"
   ]
  },
  {
   "cell_type": "code",
   "execution_count": 72,
   "id": "a1e39b95",
   "metadata": {},
   "outputs": [],
   "source": [
    "data=pd.DataFrame(np.arange(16).reshape(4,4),index=[\"Bursa\",\"Ankara\",\"Rize\",\"İstanbul\"],\n",
    "                 columns=[\"bir\",\"iki\",\"üç\",\"dört\"])"
   ]
  },
  {
   "cell_type": "code",
   "execution_count": 73,
   "id": "e91bf031",
   "metadata": {},
   "outputs": [
    {
     "data": {
      "text/html": [
       "<div>\n",
       "<style scoped>\n",
       "    .dataframe tbody tr th:only-of-type {\n",
       "        vertical-align: middle;\n",
       "    }\n",
       "\n",
       "    .dataframe tbody tr th {\n",
       "        vertical-align: top;\n",
       "    }\n",
       "\n",
       "    .dataframe thead th {\n",
       "        text-align: right;\n",
       "    }\n",
       "</style>\n",
       "<table border=\"1\" class=\"dataframe\">\n",
       "  <thead>\n",
       "    <tr style=\"text-align: right;\">\n",
       "      <th></th>\n",
       "      <th>bir</th>\n",
       "      <th>iki</th>\n",
       "      <th>üç</th>\n",
       "      <th>dört</th>\n",
       "    </tr>\n",
       "  </thead>\n",
       "  <tbody>\n",
       "    <tr>\n",
       "      <th>Bursa</th>\n",
       "      <td>0</td>\n",
       "      <td>1</td>\n",
       "      <td>2</td>\n",
       "      <td>3</td>\n",
       "    </tr>\n",
       "    <tr>\n",
       "      <th>Ankara</th>\n",
       "      <td>4</td>\n",
       "      <td>5</td>\n",
       "      <td>6</td>\n",
       "      <td>7</td>\n",
       "    </tr>\n",
       "    <tr>\n",
       "      <th>Rize</th>\n",
       "      <td>8</td>\n",
       "      <td>9</td>\n",
       "      <td>10</td>\n",
       "      <td>11</td>\n",
       "    </tr>\n",
       "    <tr>\n",
       "      <th>İstanbul</th>\n",
       "      <td>12</td>\n",
       "      <td>13</td>\n",
       "      <td>14</td>\n",
       "      <td>15</td>\n",
       "    </tr>\n",
       "  </tbody>\n",
       "</table>\n",
       "</div>"
      ],
      "text/plain": [
       "          bir  iki  üç  dört\n",
       "Bursa       0    1   2     3\n",
       "Ankara      4    5   6     7\n",
       "Rize        8    9  10    11\n",
       "İstanbul   12   13  14    15"
      ]
     },
     "execution_count": 73,
     "metadata": {},
     "output_type": "execute_result"
    }
   ],
   "source": [
    "data\n"
   ]
  },
  {
   "cell_type": "code",
   "execution_count": 74,
   "id": "fba58d0a",
   "metadata": {},
   "outputs": [
    {
     "data": {
      "text/plain": [
       "Bursa        1\n",
       "Ankara       5\n",
       "Rize         9\n",
       "İstanbul    13\n",
       "Name: iki, dtype: int32"
      ]
     },
     "execution_count": 74,
     "metadata": {},
     "output_type": "execute_result"
    }
   ],
   "source": [
    "data[\"iki\"]\n"
   ]
  },
  {
   "cell_type": "code",
   "execution_count": 75,
   "id": "b5e0481c",
   "metadata": {},
   "outputs": [
    {
     "data": {
      "text/html": [
       "<div>\n",
       "<style scoped>\n",
       "    .dataframe tbody tr th:only-of-type {\n",
       "        vertical-align: middle;\n",
       "    }\n",
       "\n",
       "    .dataframe tbody tr th {\n",
       "        vertical-align: top;\n",
       "    }\n",
       "\n",
       "    .dataframe thead th {\n",
       "        text-align: right;\n",
       "    }\n",
       "</style>\n",
       "<table border=\"1\" class=\"dataframe\">\n",
       "  <thead>\n",
       "    <tr style=\"text-align: right;\">\n",
       "      <th></th>\n",
       "      <th>bir</th>\n",
       "      <th>iki</th>\n",
       "    </tr>\n",
       "  </thead>\n",
       "  <tbody>\n",
       "    <tr>\n",
       "      <th>Bursa</th>\n",
       "      <td>0</td>\n",
       "      <td>1</td>\n",
       "    </tr>\n",
       "    <tr>\n",
       "      <th>Ankara</th>\n",
       "      <td>4</td>\n",
       "      <td>5</td>\n",
       "    </tr>\n",
       "    <tr>\n",
       "      <th>Rize</th>\n",
       "      <td>8</td>\n",
       "      <td>9</td>\n",
       "    </tr>\n",
       "    <tr>\n",
       "      <th>İstanbul</th>\n",
       "      <td>12</td>\n",
       "      <td>13</td>\n",
       "    </tr>\n",
       "  </tbody>\n",
       "</table>\n",
       "</div>"
      ],
      "text/plain": [
       "          bir  iki\n",
       "Bursa       0    1\n",
       "Ankara      4    5\n",
       "Rize        8    9\n",
       "İstanbul   12   13"
      ]
     },
     "execution_count": 75,
     "metadata": {},
     "output_type": "execute_result"
    }
   ],
   "source": [
    "data[[\"bir\",\"iki\"]]\n"
   ]
  },
  {
   "cell_type": "code",
   "execution_count": 76,
   "id": "d637d653",
   "metadata": {},
   "outputs": [
    {
     "data": {
      "text/html": [
       "<div>\n",
       "<style scoped>\n",
       "    .dataframe tbody tr th:only-of-type {\n",
       "        vertical-align: middle;\n",
       "    }\n",
       "\n",
       "    .dataframe tbody tr th {\n",
       "        vertical-align: top;\n",
       "    }\n",
       "\n",
       "    .dataframe thead th {\n",
       "        text-align: right;\n",
       "    }\n",
       "</style>\n",
       "<table border=\"1\" class=\"dataframe\">\n",
       "  <thead>\n",
       "    <tr style=\"text-align: right;\">\n",
       "      <th></th>\n",
       "      <th>bir</th>\n",
       "      <th>iki</th>\n",
       "      <th>üç</th>\n",
       "      <th>dört</th>\n",
       "    </tr>\n",
       "  </thead>\n",
       "  <tbody>\n",
       "    <tr>\n",
       "      <th>Bursa</th>\n",
       "      <td>0</td>\n",
       "      <td>1</td>\n",
       "      <td>2</td>\n",
       "      <td>3</td>\n",
       "    </tr>\n",
       "    <tr>\n",
       "      <th>Ankara</th>\n",
       "      <td>4</td>\n",
       "      <td>5</td>\n",
       "      <td>6</td>\n",
       "      <td>7</td>\n",
       "    </tr>\n",
       "    <tr>\n",
       "      <th>Rize</th>\n",
       "      <td>8</td>\n",
       "      <td>9</td>\n",
       "      <td>10</td>\n",
       "      <td>11</td>\n",
       "    </tr>\n",
       "  </tbody>\n",
       "</table>\n",
       "</div>"
      ],
      "text/plain": [
       "        bir  iki  üç  dört\n",
       "Bursa     0    1   2     3\n",
       "Ankara    4    5   6     7\n",
       "Rize      8    9  10    11"
      ]
     },
     "execution_count": 76,
     "metadata": {},
     "output_type": "execute_result"
    }
   ],
   "source": [
    "data[:3]\n"
   ]
  },
  {
   "cell_type": "code",
   "execution_count": 77,
   "id": "685f734d",
   "metadata": {},
   "outputs": [
    {
     "data": {
      "text/html": [
       "<div>\n",
       "<style scoped>\n",
       "    .dataframe tbody tr th:only-of-type {\n",
       "        vertical-align: middle;\n",
       "    }\n",
       "\n",
       "    .dataframe tbody tr th {\n",
       "        vertical-align: top;\n",
       "    }\n",
       "\n",
       "    .dataframe thead th {\n",
       "        text-align: right;\n",
       "    }\n",
       "</style>\n",
       "<table border=\"1\" class=\"dataframe\">\n",
       "  <thead>\n",
       "    <tr style=\"text-align: right;\">\n",
       "      <th></th>\n",
       "      <th>bir</th>\n",
       "      <th>iki</th>\n",
       "      <th>üç</th>\n",
       "      <th>dört</th>\n",
       "    </tr>\n",
       "  </thead>\n",
       "  <tbody>\n",
       "    <tr>\n",
       "      <th>Ankara</th>\n",
       "      <td>4</td>\n",
       "      <td>5</td>\n",
       "      <td>6</td>\n",
       "      <td>7</td>\n",
       "    </tr>\n",
       "    <tr>\n",
       "      <th>Rize</th>\n",
       "      <td>8</td>\n",
       "      <td>9</td>\n",
       "      <td>10</td>\n",
       "      <td>11</td>\n",
       "    </tr>\n",
       "    <tr>\n",
       "      <th>İstanbul</th>\n",
       "      <td>12</td>\n",
       "      <td>13</td>\n",
       "      <td>14</td>\n",
       "      <td>15</td>\n",
       "    </tr>\n",
       "  </tbody>\n",
       "</table>\n",
       "</div>"
      ],
      "text/plain": [
       "          bir  iki  üç  dört\n",
       "Ankara      4    5   6     7\n",
       "Rize        8    9  10    11\n",
       "İstanbul   12   13  14    15"
      ]
     },
     "execution_count": 77,
     "metadata": {},
     "output_type": "execute_result"
    }
   ],
   "source": [
    "data[data[\"dört\"]>5]\n"
   ]
  },
  {
   "cell_type": "code",
   "execution_count": 78,
   "id": "bec86385",
   "metadata": {},
   "outputs": [],
   "source": [
    "data[data<5]=0\n"
   ]
  },
  {
   "cell_type": "code",
   "execution_count": 79,
   "id": "8e078036",
   "metadata": {},
   "outputs": [
    {
     "data": {
      "text/html": [
       "<div>\n",
       "<style scoped>\n",
       "    .dataframe tbody tr th:only-of-type {\n",
       "        vertical-align: middle;\n",
       "    }\n",
       "\n",
       "    .dataframe tbody tr th {\n",
       "        vertical-align: top;\n",
       "    }\n",
       "\n",
       "    .dataframe thead th {\n",
       "        text-align: right;\n",
       "    }\n",
       "</style>\n",
       "<table border=\"1\" class=\"dataframe\">\n",
       "  <thead>\n",
       "    <tr style=\"text-align: right;\">\n",
       "      <th></th>\n",
       "      <th>bir</th>\n",
       "      <th>iki</th>\n",
       "      <th>üç</th>\n",
       "      <th>dört</th>\n",
       "    </tr>\n",
       "  </thead>\n",
       "  <tbody>\n",
       "    <tr>\n",
       "      <th>Bursa</th>\n",
       "      <td>0</td>\n",
       "      <td>0</td>\n",
       "      <td>0</td>\n",
       "      <td>0</td>\n",
       "    </tr>\n",
       "    <tr>\n",
       "      <th>Ankara</th>\n",
       "      <td>0</td>\n",
       "      <td>5</td>\n",
       "      <td>6</td>\n",
       "      <td>7</td>\n",
       "    </tr>\n",
       "    <tr>\n",
       "      <th>Rize</th>\n",
       "      <td>8</td>\n",
       "      <td>9</td>\n",
       "      <td>10</td>\n",
       "      <td>11</td>\n",
       "    </tr>\n",
       "    <tr>\n",
       "      <th>İstanbul</th>\n",
       "      <td>12</td>\n",
       "      <td>13</td>\n",
       "      <td>14</td>\n",
       "      <td>15</td>\n",
       "    </tr>\n",
       "  </tbody>\n",
       "</table>\n",
       "</div>"
      ],
      "text/plain": [
       "          bir  iki  üç  dört\n",
       "Bursa       0    0   0     0\n",
       "Ankara      0    5   6     7\n",
       "Rize        8    9  10    11\n",
       "İstanbul   12   13  14    15"
      ]
     },
     "execution_count": 79,
     "metadata": {},
     "output_type": "execute_result"
    }
   ],
   "source": [
    "data\n"
   ]
  },
  {
   "cell_type": "code",
   "execution_count": 80,
   "id": "6ef417b4",
   "metadata": {},
   "outputs": [
    {
     "data": {
      "text/plain": [
       "bir     0\n",
       "iki     5\n",
       "üç      6\n",
       "dört    7\n",
       "Name: Ankara, dtype: int32"
      ]
     },
     "execution_count": 80,
     "metadata": {},
     "output_type": "execute_result"
    }
   ],
   "source": [
    "#Satırlarla ilgili işlemler için loc ve iloc operatörleri kullanılabilir.İloc girilen indexin satır değerlerini döndürür.\n",
    "\n",
    "data.iloc[1]\n"
   ]
  },
  {
   "cell_type": "code",
   "execution_count": 81,
   "id": "bc71fc2e",
   "metadata": {},
   "outputs": [
    {
     "data": {
      "text/plain": [
       "iki     5\n",
       "üç      6\n",
       "dört    7\n",
       "Name: Ankara, dtype: int32"
      ]
     },
     "execution_count": 81,
     "metadata": {},
     "output_type": "execute_result"
    }
   ],
   "source": [
    "#Belli bir satırın belli değerlerini almak hatta belli satırların belli değerlerini de almak mümkündür.\n",
    "\n",
    "data.iloc[1,[1,2,3]]\n",
    "\n"
   ]
  },
  {
   "cell_type": "code",
   "execution_count": 82,
   "id": "d5fa1cb3",
   "metadata": {},
   "outputs": [
    {
     "data": {
      "text/html": [
       "<div>\n",
       "<style scoped>\n",
       "    .dataframe tbody tr th:only-of-type {\n",
       "        vertical-align: middle;\n",
       "    }\n",
       "\n",
       "    .dataframe tbody tr th {\n",
       "        vertical-align: top;\n",
       "    }\n",
       "\n",
       "    .dataframe thead th {\n",
       "        text-align: right;\n",
       "    }\n",
       "</style>\n",
       "<table border=\"1\" class=\"dataframe\">\n",
       "  <thead>\n",
       "    <tr style=\"text-align: right;\">\n",
       "      <th></th>\n",
       "      <th>iki</th>\n",
       "      <th>üç</th>\n",
       "      <th>dört</th>\n",
       "    </tr>\n",
       "  </thead>\n",
       "  <tbody>\n",
       "    <tr>\n",
       "      <th>Ankara</th>\n",
       "      <td>5</td>\n",
       "      <td>6</td>\n",
       "      <td>7</td>\n",
       "    </tr>\n",
       "    <tr>\n",
       "      <th>İstanbul</th>\n",
       "      <td>13</td>\n",
       "      <td>14</td>\n",
       "      <td>15</td>\n",
       "    </tr>\n",
       "  </tbody>\n",
       "</table>\n",
       "</div>"
      ],
      "text/plain": [
       "          iki  üç  dört\n",
       "Ankara      5   6     7\n",
       "İstanbul   13  14    15"
      ]
     },
     "execution_count": 82,
     "metadata": {},
     "output_type": "execute_result"
    }
   ],
   "source": [
    "data.iloc[[1,3],[1,2,3]]\n"
   ]
  },
  {
   "cell_type": "code",
   "execution_count": 83,
   "id": "4775421c",
   "metadata": {},
   "outputs": [
    {
     "data": {
      "text/plain": [
       "bir    8\n",
       "iki    9\n",
       "Name: Rize, dtype: int32"
      ]
     },
     "execution_count": 83,
     "metadata": {},
     "output_type": "execute_result"
    }
   ],
   "source": [
    "data.loc[\"Rize\",[\"bir\",\"iki\"]]\n"
   ]
  },
  {
   "cell_type": "code",
   "execution_count": 84,
   "id": "b006f65e",
   "metadata": {},
   "outputs": [
    {
     "data": {
      "text/plain": [
       "Bursa      0\n",
       "Ankara     7\n",
       "Rize      11\n",
       "Name: dört, dtype: int32"
      ]
     },
     "execution_count": 84,
     "metadata": {},
     "output_type": "execute_result"
    }
   ],
   "source": [
    "data.loc[:\"Rize\",\"dört\"]\n"
   ]
  },
  {
   "cell_type": "code",
   "execution_count": 85,
   "id": "edc1b298",
   "metadata": {},
   "outputs": [
    {
     "name": "stdout",
     "output_type": "stream",
     "text": [
      "Index(['name', 'age', 'note'], dtype='object')\n"
     ]
    }
   ],
   "source": [
    "print(dataframe1.columns) # sutunlarin isimlerini verir"
   ]
  },
  {
   "cell_type": "code",
   "execution_count": 86,
   "id": "4836c273",
   "metadata": {},
   "outputs": [
    {
     "name": "stdout",
     "output_type": "stream",
     "text": [
      "<class 'pandas.core.frame.DataFrame'>\n",
      "RangeIndex: 6 entries, 0 to 5\n",
      "Data columns (total 3 columns):\n",
      " #   Column  Non-Null Count  Dtype  \n",
      "---  ------  --------------  -----  \n",
      " 0   name    6 non-null      object \n",
      " 1   age     5 non-null      float64\n",
      " 2   note    5 non-null      float64\n",
      "dtypes: float64(2), object(1)\n",
      "memory usage: 272.0+ bytes\n",
      "None\n"
     ]
    }
   ],
   "source": [
    "print(dataframe1.info()) #dataframe hakkında bilgi verir"
   ]
  },
  {
   "cell_type": "code",
   "execution_count": 87,
   "id": "d600d9e3",
   "metadata": {},
   "outputs": [
    {
     "data": {
      "text/html": [
       "<div>\n",
       "<style scoped>\n",
       "    .dataframe tbody tr th:only-of-type {\n",
       "        vertical-align: middle;\n",
       "    }\n",
       "\n",
       "    .dataframe tbody tr th {\n",
       "        vertical-align: top;\n",
       "    }\n",
       "\n",
       "    .dataframe thead th {\n",
       "        text-align: right;\n",
       "    }\n",
       "</style>\n",
       "<table border=\"1\" class=\"dataframe\">\n",
       "  <thead>\n",
       "    <tr style=\"text-align: right;\">\n",
       "      <th></th>\n",
       "      <th>sepal_length</th>\n",
       "      <th>sepal_width</th>\n",
       "      <th>petal_length</th>\n",
       "      <th>petal_width</th>\n",
       "    </tr>\n",
       "  </thead>\n",
       "  <tbody>\n",
       "    <tr>\n",
       "      <th>count</th>\n",
       "      <td>150.000000</td>\n",
       "      <td>150.000000</td>\n",
       "      <td>150.000000</td>\n",
       "      <td>150.000000</td>\n",
       "    </tr>\n",
       "    <tr>\n",
       "      <th>mean</th>\n",
       "      <td>5.843333</td>\n",
       "      <td>3.054000</td>\n",
       "      <td>3.758667</td>\n",
       "      <td>1.198667</td>\n",
       "    </tr>\n",
       "    <tr>\n",
       "      <th>std</th>\n",
       "      <td>0.828066</td>\n",
       "      <td>0.433594</td>\n",
       "      <td>1.764420</td>\n",
       "      <td>0.763161</td>\n",
       "    </tr>\n",
       "    <tr>\n",
       "      <th>min</th>\n",
       "      <td>4.300000</td>\n",
       "      <td>2.000000</td>\n",
       "      <td>1.000000</td>\n",
       "      <td>0.100000</td>\n",
       "    </tr>\n",
       "    <tr>\n",
       "      <th>25%</th>\n",
       "      <td>5.100000</td>\n",
       "      <td>2.800000</td>\n",
       "      <td>1.600000</td>\n",
       "      <td>0.300000</td>\n",
       "    </tr>\n",
       "    <tr>\n",
       "      <th>50%</th>\n",
       "      <td>5.800000</td>\n",
       "      <td>3.000000</td>\n",
       "      <td>4.350000</td>\n",
       "      <td>1.300000</td>\n",
       "    </tr>\n",
       "    <tr>\n",
       "      <th>75%</th>\n",
       "      <td>6.400000</td>\n",
       "      <td>3.300000</td>\n",
       "      <td>5.100000</td>\n",
       "      <td>1.800000</td>\n",
       "    </tr>\n",
       "    <tr>\n",
       "      <th>max</th>\n",
       "      <td>7.900000</td>\n",
       "      <td>4.400000</td>\n",
       "      <td>6.900000</td>\n",
       "      <td>2.500000</td>\n",
       "    </tr>\n",
       "  </tbody>\n",
       "</table>\n",
       "</div>"
      ],
      "text/plain": [
       "       sepal_length  sepal_width  petal_length  petal_width\n",
       "count    150.000000   150.000000    150.000000   150.000000\n",
       "mean       5.843333     3.054000      3.758667     1.198667\n",
       "std        0.828066     0.433594      1.764420     0.763161\n",
       "min        4.300000     2.000000      1.000000     0.100000\n",
       "25%        5.100000     2.800000      1.600000     0.300000\n",
       "50%        5.800000     3.000000      4.350000     1.300000\n",
       "75%        6.400000     3.300000      5.100000     1.800000\n",
       "max        7.900000     4.400000      6.900000     2.500000"
      ]
     },
     "execution_count": 87,
     "metadata": {},
     "output_type": "execute_result"
    }
   ],
   "source": [
    "#Describe() methodu bize veri seti hakkında bilgiler verir.\n",
    "df.describe()"
   ]
  },
  {
   "cell_type": "markdown",
   "id": "f8cb63e8",
   "metadata": {},
   "source": [
    "# Indexleme ve Dilimleme"
   ]
  },
  {
   "cell_type": "code",
   "execution_count": 88,
   "id": "44a6b90e",
   "metadata": {},
   "outputs": [
    {
     "name": "stdout",
     "output_type": "stream",
     "text": [
      "0        ali\n",
      "1       veli\n",
      "2    zübeyde\n",
      "3      ahmet\n",
      "4      kubra\n",
      "5        can\n",
      "Name: name, dtype: object\n",
      "0    12.0\n",
      "1    34.0\n",
      "2    56.0\n",
      "3    78.0\n",
      "4     NaN\n",
      "5    12.0\n",
      "Name: age, dtype: float64\n",
      "0    12.0\n",
      "1    34.0\n",
      "2    56.0\n",
      "3    78.0\n",
      "Name: age, dtype: float64\n",
      "      name   age     note\n",
      "0      ali  12.0    123.0\n",
      "1     veli  34.0    456.0\n",
      "2  zübeyde  56.0     78.0\n",
      "3    ahmet  78.0  87654.0\n",
      "      name   age     note  yeni_future\n",
      "5      can  12.0     89.0            6\n",
      "4    kubra   NaN      NaN            5\n",
      "3    ahmet  78.0  87654.0            4\n",
      "2  zübeyde  56.0     78.0            3\n",
      "1     veli  34.0    456.0            2\n",
      "0      ali  12.0    123.0            1\n"
     ]
    }
   ],
   "source": [
    "print(dataframe1[\"name\"]) \n",
    "print(dataframe1.loc[:, \"age\"])                      #   sadece isimleri getirir\n",
    "dataframe1[\"yeni_future\"] = [1,2,3,4,5,6]\n",
    "print(dataframe1.loc[:3,\"age\"]) \n",
    "print(dataframe1.loc[:3, \"name\":\"note\"])                 #name den note'a kadar olan kolonların ilk 3 satırını yazdırır\n",
    "print(dataframe1.loc[::-1])                           #indexleri tersten yazdırdı\n"
   ]
  },
  {
   "cell_type": "code",
   "execution_count": 89,
   "id": "bc7cfe3f",
   "metadata": {},
   "outputs": [
    {
     "name": "stdout",
     "output_type": "stream",
     "text": [
      "0    1\n",
      "1    2\n",
      "2    3\n",
      "3    4\n",
      "4    5\n",
      "5    6\n",
      "Name: yeni_future, dtype: int64\n"
     ]
    }
   ],
   "source": [
    " #yeni future tanımlandı\n",
    "print(dataframe1.yeni_future) "
   ]
  },
  {
   "cell_type": "code",
   "execution_count": 90,
   "id": "8ff4d105",
   "metadata": {},
   "outputs": [
    {
     "name": "stdout",
     "output_type": "stream",
     "text": [
      "0    12.0\n",
      "1    34.0\n",
      "2    56.0\n",
      "3    78.0\n",
      "4     NaN\n",
      "5    12.0\n",
      "Name: age, dtype: float64\n"
     ]
    }
   ],
   "source": [
    "print(dataframe1.loc[:, \"age\"]) # sutun getirmenin bir başka yolu"
   ]
  },
  {
   "cell_type": "code",
   "execution_count": 91,
   "id": "0ea27156",
   "metadata": {},
   "outputs": [
    {
     "name": "stdout",
     "output_type": "stream",
     "text": [
      "0    12.0\n",
      "1    34.0\n",
      "2    56.0\n",
      "3    78.0\n",
      "Name: age, dtype: float64\n"
     ]
    }
   ],
   "source": [
    "print(dataframe1.loc[:3,\"age\"]) "
   ]
  },
  {
   "cell_type": "code",
   "execution_count": 92,
   "id": "8244357c",
   "metadata": {},
   "outputs": [
    {
     "name": "stdout",
     "output_type": "stream",
     "text": [
      "      name   age     note\n",
      "0      ali  12.0    123.0\n",
      "1     veli  34.0    456.0\n",
      "2  zübeyde  56.0     78.0\n",
      "3    ahmet  78.0  87654.0\n"
     ]
    }
   ],
   "source": [
    "print(dataframe1.loc[:3, \"name\":\"note\"]) #name den note'a kadar olan kolonların ilk 3 satırını yazdırdı 3 dahil"
   ]
  },
  {
   "cell_type": "code",
   "execution_count": 93,
   "id": "12ab5abf",
   "metadata": {},
   "outputs": [
    {
     "name": "stdout",
     "output_type": "stream",
     "text": [
      "      name     note\n",
      "0      ali    123.0\n",
      "1     veli    456.0\n",
      "2  zübeyde     78.0\n",
      "3    ahmet  87654.0\n"
     ]
    }
   ],
   "source": [
    "print(dataframe1.loc[:3, [\"name\",\"note\"]]) #sadece name ve notun 3. indeksine kadar yazdırır"
   ]
  },
  {
   "cell_type": "code",
   "execution_count": 94,
   "id": "60193209",
   "metadata": {},
   "outputs": [
    {
     "name": "stdout",
     "output_type": "stream",
     "text": [
      "      name   age     note  yeni_future\n",
      "5      can  12.0     89.0            6\n",
      "4    kubra   NaN      NaN            5\n",
      "3    ahmet  78.0  87654.0            4\n",
      "2  zübeyde  56.0     78.0            3\n",
      "1     veli  34.0    456.0            2\n",
      "0      ali  12.0    123.0            1\n"
     ]
    }
   ],
   "source": [
    "print(dataframe1.loc[::-1]) #indexleri tersten yazdırdı"
   ]
  },
  {
   "cell_type": "code",
   "execution_count": 95,
   "id": "5afd6ec7",
   "metadata": {},
   "outputs": [
    {
     "name": "stdout",
     "output_type": "stream",
     "text": [
      "      name   age\n",
      "0      ali  12.0\n",
      "1     veli  34.0\n",
      "2  zübeyde  56.0\n",
      "3    ahmet  78.0\n",
      "4    kubra   NaN\n",
      "5      can  12.0\n"
     ]
    }
   ],
   "source": [
    "print(dataframe1.loc[:,:\"age\"]) #age kadar olan tüm satırları yazdırdı. age dahil"
   ]
  },
  {
   "cell_type": "code",
   "execution_count": 96,
   "id": "e501463d",
   "metadata": {},
   "outputs": [
    {
     "name": "stdout",
     "output_type": "stream",
     "text": [
      "      note\n",
      "0    123.0\n",
      "1    456.0\n",
      "2     78.0\n",
      "3  87654.0\n",
      "4      NaN\n",
      "5     89.0\n"
     ]
    }
   ],
   "source": [
    "print(dataframe1.iloc[:,[2]]) #2. indeksdeki kolonun tüm satırlarını verir"
   ]
  },
  {
   "cell_type": "markdown",
   "id": "ab0df435",
   "metadata": {},
   "source": [
    "## Filtering Pandas Data Frame\n",
    " "
   ]
  },
  {
   "cell_type": "code",
   "execution_count": 97,
   "id": "1612c454",
   "metadata": {},
   "outputs": [
    {
     "name": "stdout",
     "output_type": "stream",
     "text": [
      "    age   bool\n",
      "0  12.0   True\n",
      "1  34.0   True\n",
      "2  56.0   True\n",
      "3  78.0   True\n",
      "4   NaN  False\n",
      "5  12.0   True\n"
     ]
    }
   ],
   "source": [
    "filtre1 = dataframe1.age>10                           #yaşı 10'dan büyük olanlar filtrelendi\n",
    "dataframe1[\"bool\"]= filtre1\n",
    "print(dataframe1.loc[:,[\"age\",\"bool\"]])"
   ]
  },
  {
   "cell_type": "code",
   "execution_count": 98,
   "id": "b985993a",
   "metadata": {},
   "outputs": [
    {
     "data": {
      "text/plain": [
       "pandas.core.series.Series"
      ]
     },
     "execution_count": 98,
     "metadata": {},
     "output_type": "execute_result"
    }
   ],
   "source": [
    "type(filtre1) #nupmy'da vektör denilirken pandas'da ise tipine series deniliyor. Serilerin birleşimine ise dataframe denir."
   ]
  },
  {
   "cell_type": "code",
   "execution_count": 99,
   "id": "3d4277d9",
   "metadata": {},
   "outputs": [
    {
     "name": "stdout",
     "output_type": "stream",
     "text": [
      "      name   age     note  yeni_future  bool\n",
      "0      ali  12.0    123.0            1  True\n",
      "1     veli  34.0    456.0            2  True\n",
      "2  zübeyde  56.0     78.0            3  True\n",
      "3    ahmet  78.0  87654.0            4  True\n",
      "5      can  12.0     89.0            6  True\n"
     ]
    }
   ],
   "source": [
    "filtrelenmis_data= dataframe1[filtre1] #dataframe'i filtrelemiş olduk, sadece koşulu sağlayan indeksler yazıldı\n",
    "print(filtrelenmis_data)"
   ]
  },
  {
   "cell_type": "code",
   "execution_count": 100,
   "id": "91214142",
   "metadata": {},
   "outputs": [
    {
     "name": "stdout",
     "output_type": "stream",
     "text": [
      "    name   age     note  yeni_future  bool\n",
      "0    ali  12.0    123.0            1  True\n",
      "1   veli  34.0    456.0            2  True\n",
      "3  ahmet  78.0  87654.0            4  True\n"
     ]
    }
   ],
   "source": [
    "filtre2 = dataframe1.note>100\n",
    "filtrelenmis_data2 = dataframe1[filtre2&filtre1] #iki filtre birden uyguladık\n",
    "print(filtrelenmis_data2)\n"
   ]
  },
  {
   "cell_type": "code",
   "execution_count": 101,
   "id": "8d539d55",
   "metadata": {},
   "outputs": [
    {
     "data": {
      "text/html": [
       "<div>\n",
       "<style scoped>\n",
       "    .dataframe tbody tr th:only-of-type {\n",
       "        vertical-align: middle;\n",
       "    }\n",
       "\n",
       "    .dataframe tbody tr th {\n",
       "        vertical-align: top;\n",
       "    }\n",
       "\n",
       "    .dataframe thead th {\n",
       "        text-align: right;\n",
       "    }\n",
       "</style>\n",
       "<table border=\"1\" class=\"dataframe\">\n",
       "  <thead>\n",
       "    <tr style=\"text-align: right;\">\n",
       "      <th></th>\n",
       "      <th>name</th>\n",
       "      <th>age</th>\n",
       "      <th>note</th>\n",
       "      <th>yeni_future</th>\n",
       "      <th>bool</th>\n",
       "    </tr>\n",
       "  </thead>\n",
       "  <tbody>\n",
       "    <tr>\n",
       "      <th>1</th>\n",
       "      <td>veli</td>\n",
       "      <td>34.0</td>\n",
       "      <td>456.0</td>\n",
       "      <td>2</td>\n",
       "      <td>True</td>\n",
       "    </tr>\n",
       "    <tr>\n",
       "      <th>2</th>\n",
       "      <td>zübeyde</td>\n",
       "      <td>56.0</td>\n",
       "      <td>78.0</td>\n",
       "      <td>3</td>\n",
       "      <td>True</td>\n",
       "    </tr>\n",
       "    <tr>\n",
       "      <th>3</th>\n",
       "      <td>ahmet</td>\n",
       "      <td>78.0</td>\n",
       "      <td>87654.0</td>\n",
       "      <td>4</td>\n",
       "      <td>True</td>\n",
       "    </tr>\n",
       "  </tbody>\n",
       "</table>\n",
       "</div>"
      ],
      "text/plain": [
       "      name   age     note  yeni_future  bool\n",
       "1     veli  34.0    456.0            2  True\n",
       "2  zübeyde  56.0     78.0            3  True\n",
       "3    ahmet  78.0  87654.0            4  True"
      ]
     },
     "execution_count": 101,
     "metadata": {},
     "output_type": "execute_result"
    }
   ],
   "source": [
    "dataframe1[dataframe1.age>20] #bu şekildede filtreleme uygulayabiliriz"
   ]
  },
  {
   "cell_type": "markdown",
   "id": "c07388bd",
   "metadata": {},
   "source": [
    "# List Comprehension\n"
   ]
  },
  {
   "cell_type": "code",
   "execution_count": 102,
   "id": "c6b7cfe8",
   "metadata": {},
   "outputs": [
    {
     "name": "stdout",
     "output_type": "stream",
     "text": [
      "17680.0\n",
      "17680.0\n"
     ]
    }
   ],
   "source": [
    "import numpy as np\n",
    "ortalama = dataframe1.note.mean() #pandas ile ortalama bulma \n",
    "print(ortalama)\n",
    "ortlama_np= np.mean(dataframe1.note) #numpy ile ortalama bulma\n",
    "print(ortlama_np)"
   ]
  },
  {
   "cell_type": "code",
   "execution_count": 103,
   "id": "92feff76",
   "metadata": {},
   "outputs": [
    {
     "data": {
      "text/html": [
       "<div>\n",
       "<style scoped>\n",
       "    .dataframe tbody tr th:only-of-type {\n",
       "        vertical-align: middle;\n",
       "    }\n",
       "\n",
       "    .dataframe tbody tr th {\n",
       "        vertical-align: top;\n",
       "    }\n",
       "\n",
       "    .dataframe thead th {\n",
       "        text-align: right;\n",
       "    }\n",
       "</style>\n",
       "<table border=\"1\" class=\"dataframe\">\n",
       "  <thead>\n",
       "    <tr style=\"text-align: right;\">\n",
       "      <th></th>\n",
       "      <th>name</th>\n",
       "      <th>age</th>\n",
       "      <th>note</th>\n",
       "      <th>yeni_future</th>\n",
       "      <th>bool</th>\n",
       "    </tr>\n",
       "  </thead>\n",
       "  <tbody>\n",
       "    <tr>\n",
       "      <th>0</th>\n",
       "      <td>ali</td>\n",
       "      <td>12.0</td>\n",
       "      <td>123.0</td>\n",
       "      <td>1</td>\n",
       "      <td>True</td>\n",
       "    </tr>\n",
       "    <tr>\n",
       "      <th>1</th>\n",
       "      <td>veli</td>\n",
       "      <td>34.0</td>\n",
       "      <td>456.0</td>\n",
       "      <td>2</td>\n",
       "      <td>True</td>\n",
       "    </tr>\n",
       "    <tr>\n",
       "      <th>2</th>\n",
       "      <td>zübeyde</td>\n",
       "      <td>56.0</td>\n",
       "      <td>78.0</td>\n",
       "      <td>3</td>\n",
       "      <td>True</td>\n",
       "    </tr>\n",
       "    <tr>\n",
       "      <th>3</th>\n",
       "      <td>ahmet</td>\n",
       "      <td>78.0</td>\n",
       "      <td>87654.0</td>\n",
       "      <td>4</td>\n",
       "      <td>True</td>\n",
       "    </tr>\n",
       "    <tr>\n",
       "      <th>5</th>\n",
       "      <td>can</td>\n",
       "      <td>12.0</td>\n",
       "      <td>89.0</td>\n",
       "      <td>6</td>\n",
       "      <td>True</td>\n",
       "    </tr>\n",
       "  </tbody>\n",
       "</table>\n",
       "</div>"
      ],
      "text/plain": [
       "      name   age     note  yeni_future  bool\n",
       "0      ali  12.0    123.0            1  True\n",
       "1     veli  34.0    456.0            2  True\n",
       "2  zübeyde  56.0     78.0            3  True\n",
       "3    ahmet  78.0  87654.0            4  True\n",
       "5      can  12.0     89.0            6  True"
      ]
     },
     "execution_count": 103,
     "metadata": {},
     "output_type": "execute_result"
    }
   ],
   "source": [
    "dataframe1.dropna(inplace=True) #dropna ile NaN değerleri sildik \n",
    "dataframe1"
   ]
  },
  {
   "cell_type": "code",
   "execution_count": 104,
   "id": "c0d198f1",
   "metadata": {},
   "outputs": [
    {
     "name": "stdout",
     "output_type": "stream",
     "text": [
      "17680.0\n"
     ]
    },
    {
     "data": {
      "text/html": [
       "<div>\n",
       "<style scoped>\n",
       "    .dataframe tbody tr th:only-of-type {\n",
       "        vertical-align: middle;\n",
       "    }\n",
       "\n",
       "    .dataframe tbody tr th {\n",
       "        vertical-align: top;\n",
       "    }\n",
       "\n",
       "    .dataframe thead th {\n",
       "        text-align: right;\n",
       "    }\n",
       "</style>\n",
       "<table border=\"1\" class=\"dataframe\">\n",
       "  <thead>\n",
       "    <tr style=\"text-align: right;\">\n",
       "      <th></th>\n",
       "      <th>name</th>\n",
       "      <th>age</th>\n",
       "      <th>note</th>\n",
       "      <th>yeni_future</th>\n",
       "      <th>bool</th>\n",
       "      <th>ortalama</th>\n",
       "    </tr>\n",
       "  </thead>\n",
       "  <tbody>\n",
       "    <tr>\n",
       "      <th>0</th>\n",
       "      <td>ali</td>\n",
       "      <td>12.0</td>\n",
       "      <td>123.0</td>\n",
       "      <td>1</td>\n",
       "      <td>True</td>\n",
       "      <td>ortalamanın altında</td>\n",
       "    </tr>\n",
       "    <tr>\n",
       "      <th>1</th>\n",
       "      <td>veli</td>\n",
       "      <td>34.0</td>\n",
       "      <td>456.0</td>\n",
       "      <td>2</td>\n",
       "      <td>True</td>\n",
       "      <td>ortalamanın altında</td>\n",
       "    </tr>\n",
       "    <tr>\n",
       "      <th>2</th>\n",
       "      <td>zübeyde</td>\n",
       "      <td>56.0</td>\n",
       "      <td>78.0</td>\n",
       "      <td>3</td>\n",
       "      <td>True</td>\n",
       "      <td>ortalamanın altında</td>\n",
       "    </tr>\n",
       "    <tr>\n",
       "      <th>3</th>\n",
       "      <td>ahmet</td>\n",
       "      <td>78.0</td>\n",
       "      <td>87654.0</td>\n",
       "      <td>4</td>\n",
       "      <td>True</td>\n",
       "      <td>ortalamanın üstünde</td>\n",
       "    </tr>\n",
       "    <tr>\n",
       "      <th>5</th>\n",
       "      <td>can</td>\n",
       "      <td>12.0</td>\n",
       "      <td>89.0</td>\n",
       "      <td>6</td>\n",
       "      <td>True</td>\n",
       "      <td>ortalamanın altında</td>\n",
       "    </tr>\n",
       "  </tbody>\n",
       "</table>\n",
       "</div>"
      ],
      "text/plain": [
       "      name   age     note  yeni_future  bool             ortalama\n",
       "0      ali  12.0    123.0            1  True  ortalamanın altında\n",
       "1     veli  34.0    456.0            2  True  ortalamanın altında\n",
       "2  zübeyde  56.0     78.0            3  True  ortalamanın altında\n",
       "3    ahmet  78.0  87654.0            4  True  ortalamanın üstünde\n",
       "5      can  12.0     89.0            6  True  ortalamanın altında"
      ]
     },
     "execution_count": 104,
     "metadata": {},
     "output_type": "execute_result"
    }
   ],
   "source": [
    "print(dataframe1.note.mean()) #ortalama not hesabı\n",
    "#ortalamaya bakarak üstünde vya altında olduğunu yazdırma\n",
    "dataframe1[\"ortalama\"]= [\"ortalamanın altında\" if dataframe1.note.mean()>each else \"ortalamanın üstünde\" for each in dataframe1.note]\n",
    "dataframe1"
   ]
  },
  {
   "cell_type": "code",
   "execution_count": 105,
   "id": "efe9e7b9",
   "metadata": {},
   "outputs": [
    {
     "data": {
      "text/plain": [
       "Index(['NAME', 'AGE', 'NOTE', 'YENI_FUTURE', 'BOOL', 'ORTALAMA'], dtype='object')"
      ]
     },
     "execution_count": 105,
     "metadata": {},
     "output_type": "execute_result"
    }
   ],
   "source": [
    "dataframe1.columns = [each.upper() for each in dataframe1.columns]\n",
    "dataframe1.columns"
   ]
  },
  {
   "cell_type": "code",
   "execution_count": 106,
   "id": "05369fd0",
   "metadata": {},
   "outputs": [
    {
     "data": {
      "text/html": [
       "<div>\n",
       "<style scoped>\n",
       "    .dataframe tbody tr th:only-of-type {\n",
       "        vertical-align: middle;\n",
       "    }\n",
       "\n",
       "    .dataframe tbody tr th {\n",
       "        vertical-align: top;\n",
       "    }\n",
       "\n",
       "    .dataframe thead th {\n",
       "        text-align: right;\n",
       "    }\n",
       "</style>\n",
       "<table border=\"1\" class=\"dataframe\">\n",
       "  <thead>\n",
       "    <tr style=\"text-align: right;\">\n",
       "      <th></th>\n",
       "      <th>NAME</th>\n",
       "      <th>AGE</th>\n",
       "      <th>NOTE</th>\n",
       "      <th>YENI FUTURE</th>\n",
       "      <th>BOOL</th>\n",
       "      <th>ORTALAMA</th>\n",
       "      <th>yeni2 future</th>\n",
       "    </tr>\n",
       "  </thead>\n",
       "  <tbody>\n",
       "    <tr>\n",
       "      <th>0</th>\n",
       "      <td>ali</td>\n",
       "      <td>12.0</td>\n",
       "      <td>123.0</td>\n",
       "      <td>1</td>\n",
       "      <td>True</td>\n",
       "      <td>ortalamanın altında</td>\n",
       "      <td>1</td>\n",
       "    </tr>\n",
       "    <tr>\n",
       "      <th>1</th>\n",
       "      <td>veli</td>\n",
       "      <td>34.0</td>\n",
       "      <td>456.0</td>\n",
       "      <td>2</td>\n",
       "      <td>True</td>\n",
       "      <td>ortalamanın altında</td>\n",
       "      <td>1</td>\n",
       "    </tr>\n",
       "    <tr>\n",
       "      <th>2</th>\n",
       "      <td>zübeyde</td>\n",
       "      <td>56.0</td>\n",
       "      <td>78.0</td>\n",
       "      <td>3</td>\n",
       "      <td>True</td>\n",
       "      <td>ortalamanın altında</td>\n",
       "      <td>1</td>\n",
       "    </tr>\n",
       "    <tr>\n",
       "      <th>3</th>\n",
       "      <td>ahmet</td>\n",
       "      <td>78.0</td>\n",
       "      <td>87654.0</td>\n",
       "      <td>4</td>\n",
       "      <td>True</td>\n",
       "      <td>ortalamanın üstünde</td>\n",
       "      <td>1</td>\n",
       "    </tr>\n",
       "    <tr>\n",
       "      <th>5</th>\n",
       "      <td>can</td>\n",
       "      <td>12.0</td>\n",
       "      <td>89.0</td>\n",
       "      <td>6</td>\n",
       "      <td>True</td>\n",
       "      <td>ortalamanın altında</td>\n",
       "      <td>1</td>\n",
       "    </tr>\n",
       "  </tbody>\n",
       "</table>\n",
       "</div>"
      ],
      "text/plain": [
       "      NAME   AGE     NOTE  YENI FUTURE  BOOL             ORTALAMA  \\\n",
       "0      ali  12.0    123.0            1  True  ortalamanın altında   \n",
       "1     veli  34.0    456.0            2  True  ortalamanın altında   \n",
       "2  zübeyde  56.0     78.0            3  True  ortalamanın altında   \n",
       "3    ahmet  78.0  87654.0            4  True  ortalamanın üstünde   \n",
       "5      can  12.0     89.0            6  True  ortalamanın altında   \n",
       "\n",
       "   yeni2 future  \n",
       "0             1  \n",
       "1             1  \n",
       "2             1  \n",
       "3             1  \n",
       "5             1  "
      ]
     },
     "execution_count": 106,
     "metadata": {},
     "output_type": "execute_result"
    }
   ],
   "source": [
    "dataframe1[\"yeni2_future\"]=[1,1,1,1,1]\n",
    "dataframe1.columns = [each.split('_')[0]+\" \"+each.split('_')[1] if len(each.split('_'))>1 else each for each in dataframe1.columns]\n",
    "dataframe1"
   ]
  },
  {
   "cell_type": "code",
   "execution_count": 107,
   "id": "94c83358",
   "metadata": {},
   "outputs": [
    {
     "data": {
      "text/html": [
       "<div>\n",
       "<style scoped>\n",
       "    .dataframe tbody tr th:only-of-type {\n",
       "        vertical-align: middle;\n",
       "    }\n",
       "\n",
       "    .dataframe tbody tr th {\n",
       "        vertical-align: top;\n",
       "    }\n",
       "\n",
       "    .dataframe thead th {\n",
       "        text-align: right;\n",
       "    }\n",
       "</style>\n",
       "<table border=\"1\" class=\"dataframe\">\n",
       "  <thead>\n",
       "    <tr style=\"text-align: right;\">\n",
       "      <th></th>\n",
       "      <th>NAME</th>\n",
       "      <th>AGE</th>\n",
       "      <th>NOTE</th>\n",
       "      <th>YENI_FUTURE</th>\n",
       "      <th>BOOL</th>\n",
       "      <th>ORTALAMA</th>\n",
       "      <th>yeni2_future</th>\n",
       "    </tr>\n",
       "  </thead>\n",
       "  <tbody>\n",
       "    <tr>\n",
       "      <th>0</th>\n",
       "      <td>ali</td>\n",
       "      <td>12.0</td>\n",
       "      <td>123.0</td>\n",
       "      <td>1</td>\n",
       "      <td>True</td>\n",
       "      <td>ortalamanın altında</td>\n",
       "      <td>1</td>\n",
       "    </tr>\n",
       "    <tr>\n",
       "      <th>1</th>\n",
       "      <td>veli</td>\n",
       "      <td>34.0</td>\n",
       "      <td>456.0</td>\n",
       "      <td>2</td>\n",
       "      <td>True</td>\n",
       "      <td>ortalamanın altında</td>\n",
       "      <td>1</td>\n",
       "    </tr>\n",
       "    <tr>\n",
       "      <th>2</th>\n",
       "      <td>zübeyde</td>\n",
       "      <td>56.0</td>\n",
       "      <td>78.0</td>\n",
       "      <td>3</td>\n",
       "      <td>True</td>\n",
       "      <td>ortalamanın altında</td>\n",
       "      <td>1</td>\n",
       "    </tr>\n",
       "    <tr>\n",
       "      <th>3</th>\n",
       "      <td>ahmet</td>\n",
       "      <td>78.0</td>\n",
       "      <td>87654.0</td>\n",
       "      <td>4</td>\n",
       "      <td>True</td>\n",
       "      <td>ortalamanın üstünde</td>\n",
       "      <td>1</td>\n",
       "    </tr>\n",
       "    <tr>\n",
       "      <th>5</th>\n",
       "      <td>can</td>\n",
       "      <td>12.0</td>\n",
       "      <td>89.0</td>\n",
       "      <td>6</td>\n",
       "      <td>True</td>\n",
       "      <td>ortalamanın altında</td>\n",
       "      <td>1</td>\n",
       "    </tr>\n",
       "  </tbody>\n",
       "</table>\n",
       "</div>"
      ],
      "text/plain": [
       "      NAME   AGE     NOTE  YENI_FUTURE  BOOL             ORTALAMA  \\\n",
       "0      ali  12.0    123.0            1  True  ortalamanın altında   \n",
       "1     veli  34.0    456.0            2  True  ortalamanın altında   \n",
       "2  zübeyde  56.0     78.0            3  True  ortalamanın altında   \n",
       "3    ahmet  78.0  87654.0            4  True  ortalamanın üstünde   \n",
       "5      can  12.0     89.0            6  True  ortalamanın altında   \n",
       "\n",
       "   yeni2_future  \n",
       "0             1  \n",
       "1             1  \n",
       "2             1  \n",
       "3             1  \n",
       "5             1  "
      ]
     },
     "execution_count": 107,
     "metadata": {},
     "output_type": "execute_result"
    }
   ],
   "source": [
    "dataframe1.columns = [ each.split(\" \")[0]+\"_\"+each.split(\" \")[1] if len(each.split(\" \"))>1 else each for each in dataframe1.columns]\n",
    "dataframe1"
   ]
  },
  {
   "cell_type": "markdown",
   "id": "15248c3a",
   "metadata": {},
   "source": [
    "## Concatenating Data "
   ]
  },
  {
   "cell_type": "code",
   "execution_count": 108,
   "id": "d4a79273",
   "metadata": {},
   "outputs": [
    {
     "data": {
      "text/html": [
       "<div>\n",
       "<style scoped>\n",
       "    .dataframe tbody tr th:only-of-type {\n",
       "        vertical-align: middle;\n",
       "    }\n",
       "\n",
       "    .dataframe tbody tr th {\n",
       "        vertical-align: top;\n",
       "    }\n",
       "\n",
       "    .dataframe thead th {\n",
       "        text-align: right;\n",
       "    }\n",
       "</style>\n",
       "<table border=\"1\" class=\"dataframe\">\n",
       "  <thead>\n",
       "    <tr style=\"text-align: right;\">\n",
       "      <th></th>\n",
       "      <th>NAME</th>\n",
       "      <th>AGE</th>\n",
       "      <th>NOTE</th>\n",
       "      <th>BOOL</th>\n",
       "      <th>ORTALAMA</th>\n",
       "    </tr>\n",
       "  </thead>\n",
       "  <tbody>\n",
       "    <tr>\n",
       "      <th>0</th>\n",
       "      <td>ali</td>\n",
       "      <td>12.0</td>\n",
       "      <td>123.0</td>\n",
       "      <td>True</td>\n",
       "      <td>ortalamanın altında</td>\n",
       "    </tr>\n",
       "    <tr>\n",
       "      <th>1</th>\n",
       "      <td>veli</td>\n",
       "      <td>34.0</td>\n",
       "      <td>456.0</td>\n",
       "      <td>True</td>\n",
       "      <td>ortalamanın altında</td>\n",
       "    </tr>\n",
       "    <tr>\n",
       "      <th>2</th>\n",
       "      <td>zübeyde</td>\n",
       "      <td>56.0</td>\n",
       "      <td>78.0</td>\n",
       "      <td>True</td>\n",
       "      <td>ortalamanın altında</td>\n",
       "    </tr>\n",
       "    <tr>\n",
       "      <th>3</th>\n",
       "      <td>ahmet</td>\n",
       "      <td>78.0</td>\n",
       "      <td>87654.0</td>\n",
       "      <td>True</td>\n",
       "      <td>ortalamanın üstünde</td>\n",
       "    </tr>\n",
       "    <tr>\n",
       "      <th>5</th>\n",
       "      <td>can</td>\n",
       "      <td>12.0</td>\n",
       "      <td>89.0</td>\n",
       "      <td>True</td>\n",
       "      <td>ortalamanın altında</td>\n",
       "    </tr>\n",
       "  </tbody>\n",
       "</table>\n",
       "</div>"
      ],
      "text/plain": [
       "      NAME   AGE     NOTE  BOOL             ORTALAMA\n",
       "0      ali  12.0    123.0  True  ortalamanın altında\n",
       "1     veli  34.0    456.0  True  ortalamanın altında\n",
       "2  zübeyde  56.0     78.0  True  ortalamanın altında\n",
       "3    ahmet  78.0  87654.0  True  ortalamanın üstünde\n",
       "5      can  12.0     89.0  True  ortalamanın altında"
      ]
     },
     "execution_count": 108,
     "metadata": {},
     "output_type": "execute_result"
    }
   ],
   "source": [
    "dataframe1.drop([\"yeni2_future\",\"YENI_FUTURE\"],axis=1,inplace=True)\n",
    "dataframe1"
   ]
  },
  {
   "cell_type": "code",
   "execution_count": 109,
   "id": "e83d9e6c",
   "metadata": {},
   "outputs": [
    {
     "data": {
      "text/html": [
       "<div>\n",
       "<style scoped>\n",
       "    .dataframe tbody tr th:only-of-type {\n",
       "        vertical-align: middle;\n",
       "    }\n",
       "\n",
       "    .dataframe tbody tr th {\n",
       "        vertical-align: top;\n",
       "    }\n",
       "\n",
       "    .dataframe thead th {\n",
       "        text-align: right;\n",
       "    }\n",
       "</style>\n",
       "<table border=\"1\" class=\"dataframe\">\n",
       "  <thead>\n",
       "    <tr style=\"text-align: right;\">\n",
       "      <th></th>\n",
       "      <th>NAME</th>\n",
       "      <th>AGE</th>\n",
       "      <th>NOTE</th>\n",
       "      <th>BOOL</th>\n",
       "      <th>ORTALAMA</th>\n",
       "    </tr>\n",
       "  </thead>\n",
       "  <tbody>\n",
       "    <tr>\n",
       "      <th>0</th>\n",
       "      <td>ali</td>\n",
       "      <td>12.0</td>\n",
       "      <td>123.0</td>\n",
       "      <td>True</td>\n",
       "      <td>ortalamanın altında</td>\n",
       "    </tr>\n",
       "    <tr>\n",
       "      <th>1</th>\n",
       "      <td>veli</td>\n",
       "      <td>34.0</td>\n",
       "      <td>456.0</td>\n",
       "      <td>True</td>\n",
       "      <td>ortalamanın altında</td>\n",
       "    </tr>\n",
       "    <tr>\n",
       "      <th>2</th>\n",
       "      <td>zübeyde</td>\n",
       "      <td>56.0</td>\n",
       "      <td>78.0</td>\n",
       "      <td>True</td>\n",
       "      <td>ortalamanın altında</td>\n",
       "    </tr>\n",
       "    <tr>\n",
       "      <th>3</th>\n",
       "      <td>ahmet</td>\n",
       "      <td>78.0</td>\n",
       "      <td>87654.0</td>\n",
       "      <td>True</td>\n",
       "      <td>ortalamanın üstünde</td>\n",
       "    </tr>\n",
       "    <tr>\n",
       "      <th>5</th>\n",
       "      <td>can</td>\n",
       "      <td>12.0</td>\n",
       "      <td>89.0</td>\n",
       "      <td>True</td>\n",
       "      <td>ortalamanın altında</td>\n",
       "    </tr>\n",
       "    <tr>\n",
       "      <th>0</th>\n",
       "      <td>ali</td>\n",
       "      <td>12.0</td>\n",
       "      <td>123.0</td>\n",
       "      <td>True</td>\n",
       "      <td>ortalamanın altında</td>\n",
       "    </tr>\n",
       "    <tr>\n",
       "      <th>1</th>\n",
       "      <td>veli</td>\n",
       "      <td>34.0</td>\n",
       "      <td>456.0</td>\n",
       "      <td>True</td>\n",
       "      <td>ortalamanın altında</td>\n",
       "    </tr>\n",
       "    <tr>\n",
       "      <th>2</th>\n",
       "      <td>zübeyde</td>\n",
       "      <td>56.0</td>\n",
       "      <td>78.0</td>\n",
       "      <td>True</td>\n",
       "      <td>ortalamanın altında</td>\n",
       "    </tr>\n",
       "    <tr>\n",
       "      <th>3</th>\n",
       "      <td>ahmet</td>\n",
       "      <td>78.0</td>\n",
       "      <td>87654.0</td>\n",
       "      <td>True</td>\n",
       "      <td>ortalamanın üstünde</td>\n",
       "    </tr>\n",
       "    <tr>\n",
       "      <th>5</th>\n",
       "      <td>can</td>\n",
       "      <td>12.0</td>\n",
       "      <td>89.0</td>\n",
       "      <td>True</td>\n",
       "      <td>ortalamanın altında</td>\n",
       "    </tr>\n",
       "  </tbody>\n",
       "</table>\n",
       "</div>"
      ],
      "text/plain": [
       "      NAME   AGE     NOTE  BOOL             ORTALAMA\n",
       "0      ali  12.0    123.0  True  ortalamanın altında\n",
       "1     veli  34.0    456.0  True  ortalamanın altında\n",
       "2  zübeyde  56.0     78.0  True  ortalamanın altında\n",
       "3    ahmet  78.0  87654.0  True  ortalamanın üstünde\n",
       "5      can  12.0     89.0  True  ortalamanın altında\n",
       "0      ali  12.0    123.0  True  ortalamanın altında\n",
       "1     veli  34.0    456.0  True  ortalamanın altında\n",
       "2  zübeyde  56.0     78.0  True  ortalamanın altında\n",
       "3    ahmet  78.0  87654.0  True  ortalamanın üstünde\n",
       "5      can  12.0     89.0  True  ortalamanın altında"
      ]
     },
     "execution_count": 109,
     "metadata": {},
     "output_type": "execute_result"
    }
   ],
   "source": [
    "#verticle(dikey) birleştirme  #concat() metodu ile iki dataframe'i birleştirdik\n",
    "data1 = dataframe1.head()     \n",
    "data2 = dataframe1.tail()\n",
    "data_concat = pd.concat([data1,data2],axis=0)\n",
    "data_concat"
   ]
  },
  {
   "cell_type": "code",
   "execution_count": 110,
   "id": "9e003e4e",
   "metadata": {},
   "outputs": [
    {
     "data": {
      "text/html": [
       "<div>\n",
       "<style scoped>\n",
       "    .dataframe tbody tr th:only-of-type {\n",
       "        vertical-align: middle;\n",
       "    }\n",
       "\n",
       "    .dataframe tbody tr th {\n",
       "        vertical-align: top;\n",
       "    }\n",
       "\n",
       "    .dataframe thead th {\n",
       "        text-align: right;\n",
       "    }\n",
       "</style>\n",
       "<table border=\"1\" class=\"dataframe\">\n",
       "  <thead>\n",
       "    <tr style=\"text-align: right;\">\n",
       "      <th></th>\n",
       "      <th>NAME</th>\n",
       "      <th>AGE</th>\n",
       "      <th>NOTE</th>\n",
       "      <th>BOOL</th>\n",
       "      <th>ORTALAMA</th>\n",
       "      <th>NAME</th>\n",
       "      <th>AGE</th>\n",
       "      <th>NOTE</th>\n",
       "      <th>BOOL</th>\n",
       "      <th>ORTALAMA</th>\n",
       "    </tr>\n",
       "  </thead>\n",
       "  <tbody>\n",
       "    <tr>\n",
       "      <th>0</th>\n",
       "      <td>ali</td>\n",
       "      <td>12.0</td>\n",
       "      <td>123.0</td>\n",
       "      <td>True</td>\n",
       "      <td>ortalamanın altında</td>\n",
       "      <td>ali</td>\n",
       "      <td>12.0</td>\n",
       "      <td>123.0</td>\n",
       "      <td>True</td>\n",
       "      <td>ortalamanın altında</td>\n",
       "    </tr>\n",
       "    <tr>\n",
       "      <th>1</th>\n",
       "      <td>veli</td>\n",
       "      <td>34.0</td>\n",
       "      <td>456.0</td>\n",
       "      <td>True</td>\n",
       "      <td>ortalamanın altında</td>\n",
       "      <td>veli</td>\n",
       "      <td>34.0</td>\n",
       "      <td>456.0</td>\n",
       "      <td>True</td>\n",
       "      <td>ortalamanın altında</td>\n",
       "    </tr>\n",
       "    <tr>\n",
       "      <th>2</th>\n",
       "      <td>zübeyde</td>\n",
       "      <td>56.0</td>\n",
       "      <td>78.0</td>\n",
       "      <td>True</td>\n",
       "      <td>ortalamanın altında</td>\n",
       "      <td>zübeyde</td>\n",
       "      <td>56.0</td>\n",
       "      <td>78.0</td>\n",
       "      <td>True</td>\n",
       "      <td>ortalamanın altında</td>\n",
       "    </tr>\n",
       "    <tr>\n",
       "      <th>3</th>\n",
       "      <td>ahmet</td>\n",
       "      <td>78.0</td>\n",
       "      <td>87654.0</td>\n",
       "      <td>True</td>\n",
       "      <td>ortalamanın üstünde</td>\n",
       "      <td>ahmet</td>\n",
       "      <td>78.0</td>\n",
       "      <td>87654.0</td>\n",
       "      <td>True</td>\n",
       "      <td>ortalamanın üstünde</td>\n",
       "    </tr>\n",
       "    <tr>\n",
       "      <th>5</th>\n",
       "      <td>can</td>\n",
       "      <td>12.0</td>\n",
       "      <td>89.0</td>\n",
       "      <td>True</td>\n",
       "      <td>ortalamanın altında</td>\n",
       "      <td>can</td>\n",
       "      <td>12.0</td>\n",
       "      <td>89.0</td>\n",
       "      <td>True</td>\n",
       "      <td>ortalamanın altında</td>\n",
       "    </tr>\n",
       "  </tbody>\n",
       "</table>\n",
       "</div>"
      ],
      "text/plain": [
       "      NAME   AGE     NOTE  BOOL             ORTALAMA     NAME   AGE     NOTE  \\\n",
       "0      ali  12.0    123.0  True  ortalamanın altında      ali  12.0    123.0   \n",
       "1     veli  34.0    456.0  True  ortalamanın altında     veli  34.0    456.0   \n",
       "2  zübeyde  56.0     78.0  True  ortalamanın altında  zübeyde  56.0     78.0   \n",
       "3    ahmet  78.0  87654.0  True  ortalamanın üstünde    ahmet  78.0  87654.0   \n",
       "5      can  12.0     89.0  True  ortalamanın altında      can  12.0     89.0   \n",
       "\n",
       "   BOOL             ORTALAMA  \n",
       "0  True  ortalamanın altında  \n",
       "1  True  ortalamanın altında  \n",
       "2  True  ortalamanın altında  \n",
       "3  True  ortalamanın üstünde  \n",
       "5  True  ortalamanın altında  "
      ]
     },
     "execution_count": 110,
     "metadata": {},
     "output_type": "execute_result"
    }
   ],
   "source": [
    "#horizontal(yatay) birleştirme\n",
    "data_contact2 = pd.concat([data1,data2],axis=1) #axis= 1 yazarak stunları birleştirdik\n",
    "data_contact2"
   ]
  },
  {
   "cell_type": "markdown",
   "id": "4ea17dfb",
   "metadata": {},
   "source": [
    "# Transforming Data"
   ]
  },
  {
   "cell_type": "code",
   "execution_count": 111,
   "id": "2bcef169",
   "metadata": {},
   "outputs": [
    {
     "data": {
      "text/html": [
       "<div>\n",
       "<style scoped>\n",
       "    .dataframe tbody tr th:only-of-type {\n",
       "        vertical-align: middle;\n",
       "    }\n",
       "\n",
       "    .dataframe tbody tr th {\n",
       "        vertical-align: top;\n",
       "    }\n",
       "\n",
       "    .dataframe thead th {\n",
       "        text-align: right;\n",
       "    }\n",
       "</style>\n",
       "<table border=\"1\" class=\"dataframe\">\n",
       "  <thead>\n",
       "    <tr style=\"text-align: right;\">\n",
       "      <th></th>\n",
       "      <th>NAME</th>\n",
       "      <th>AGE</th>\n",
       "      <th>NOTE</th>\n",
       "      <th>BOOL</th>\n",
       "      <th>ORTALAMA</th>\n",
       "      <th>buyuk_yas</th>\n",
       "    </tr>\n",
       "  </thead>\n",
       "  <tbody>\n",
       "    <tr>\n",
       "      <th>0</th>\n",
       "      <td>ali</td>\n",
       "      <td>12.0</td>\n",
       "      <td>123.0</td>\n",
       "      <td>True</td>\n",
       "      <td>ortalamanın altında</td>\n",
       "      <td>24.0</td>\n",
       "    </tr>\n",
       "    <tr>\n",
       "      <th>1</th>\n",
       "      <td>veli</td>\n",
       "      <td>34.0</td>\n",
       "      <td>456.0</td>\n",
       "      <td>True</td>\n",
       "      <td>ortalamanın altında</td>\n",
       "      <td>68.0</td>\n",
       "    </tr>\n",
       "    <tr>\n",
       "      <th>2</th>\n",
       "      <td>zübeyde</td>\n",
       "      <td>56.0</td>\n",
       "      <td>78.0</td>\n",
       "      <td>True</td>\n",
       "      <td>ortalamanın altında</td>\n",
       "      <td>112.0</td>\n",
       "    </tr>\n",
       "    <tr>\n",
       "      <th>3</th>\n",
       "      <td>ahmet</td>\n",
       "      <td>78.0</td>\n",
       "      <td>87654.0</td>\n",
       "      <td>True</td>\n",
       "      <td>ortalamanın üstünde</td>\n",
       "      <td>156.0</td>\n",
       "    </tr>\n",
       "    <tr>\n",
       "      <th>5</th>\n",
       "      <td>can</td>\n",
       "      <td>12.0</td>\n",
       "      <td>89.0</td>\n",
       "      <td>True</td>\n",
       "      <td>ortalamanın altında</td>\n",
       "      <td>24.0</td>\n",
       "    </tr>\n",
       "  </tbody>\n",
       "</table>\n",
       "</div>"
      ],
      "text/plain": [
       "      NAME   AGE     NOTE  BOOL             ORTALAMA  buyuk_yas\n",
       "0      ali  12.0    123.0  True  ortalamanın altında       24.0\n",
       "1     veli  34.0    456.0  True  ortalamanın altında       68.0\n",
       "2  zübeyde  56.0     78.0  True  ortalamanın altında      112.0\n",
       "3    ahmet  78.0  87654.0  True  ortalamanın üstünde      156.0\n",
       "5      can  12.0     89.0  True  ortalamanın altında       24.0"
      ]
     },
     "execution_count": 111,
     "metadata": {},
     "output_type": "execute_result"
    }
   ],
   "source": [
    "dataframe1[\"buyuk_yas\"] = [each*2 for each in dataframe1.AGE]\n",
    "dataframe1"
   ]
  },
  {
   "cell_type": "code",
   "execution_count": 112,
   "id": "08e9ed61",
   "metadata": {},
   "outputs": [
    {
     "data": {
      "text/html": [
       "<div>\n",
       "<style scoped>\n",
       "    .dataframe tbody tr th:only-of-type {\n",
       "        vertical-align: middle;\n",
       "    }\n",
       "\n",
       "    .dataframe tbody tr th {\n",
       "        vertical-align: top;\n",
       "    }\n",
       "\n",
       "    .dataframe thead th {\n",
       "        text-align: right;\n",
       "    }\n",
       "</style>\n",
       "<table border=\"1\" class=\"dataframe\">\n",
       "  <thead>\n",
       "    <tr style=\"text-align: right;\">\n",
       "      <th></th>\n",
       "      <th>NAME</th>\n",
       "      <th>AGE</th>\n",
       "      <th>NOTE</th>\n",
       "      <th>BOOL</th>\n",
       "      <th>ORTALAMA</th>\n",
       "      <th>buyuk_yas</th>\n",
       "      <th>apply_metodu</th>\n",
       "    </tr>\n",
       "  </thead>\n",
       "  <tbody>\n",
       "    <tr>\n",
       "      <th>0</th>\n",
       "      <td>ali</td>\n",
       "      <td>12.0</td>\n",
       "      <td>123.0</td>\n",
       "      <td>True</td>\n",
       "      <td>ortalamanın altında</td>\n",
       "      <td>24.0</td>\n",
       "      <td>24.0</td>\n",
       "    </tr>\n",
       "    <tr>\n",
       "      <th>1</th>\n",
       "      <td>veli</td>\n",
       "      <td>34.0</td>\n",
       "      <td>456.0</td>\n",
       "      <td>True</td>\n",
       "      <td>ortalamanın altında</td>\n",
       "      <td>68.0</td>\n",
       "      <td>68.0</td>\n",
       "    </tr>\n",
       "    <tr>\n",
       "      <th>2</th>\n",
       "      <td>zübeyde</td>\n",
       "      <td>56.0</td>\n",
       "      <td>78.0</td>\n",
       "      <td>True</td>\n",
       "      <td>ortalamanın altında</td>\n",
       "      <td>112.0</td>\n",
       "      <td>112.0</td>\n",
       "    </tr>\n",
       "    <tr>\n",
       "      <th>3</th>\n",
       "      <td>ahmet</td>\n",
       "      <td>78.0</td>\n",
       "      <td>87654.0</td>\n",
       "      <td>True</td>\n",
       "      <td>ortalamanın üstünde</td>\n",
       "      <td>156.0</td>\n",
       "      <td>156.0</td>\n",
       "    </tr>\n",
       "    <tr>\n",
       "      <th>5</th>\n",
       "      <td>can</td>\n",
       "      <td>12.0</td>\n",
       "      <td>89.0</td>\n",
       "      <td>True</td>\n",
       "      <td>ortalamanın altında</td>\n",
       "      <td>24.0</td>\n",
       "      <td>24.0</td>\n",
       "    </tr>\n",
       "  </tbody>\n",
       "</table>\n",
       "</div>"
      ],
      "text/plain": [
       "      NAME   AGE     NOTE  BOOL             ORTALAMA  buyuk_yas  apply_metodu\n",
       "0      ali  12.0    123.0  True  ortalamanın altında       24.0          24.0\n",
       "1     veli  34.0    456.0  True  ortalamanın altında       68.0          68.0\n",
       "2  zübeyde  56.0     78.0  True  ortalamanın altında      112.0         112.0\n",
       "3    ahmet  78.0  87654.0  True  ortalamanın üstünde      156.0         156.0\n",
       "5      can  12.0     89.0  True  ortalamanın altında       24.0          24.0"
      ]
     },
     "execution_count": 112,
     "metadata": {},
     "output_type": "execute_result"
    }
   ],
   "source": [
    "def mlt(yas):\n",
    "    return yas*2\n",
    "dataframe1[\"apply_metodu\"] = dataframe1.AGE.apply(mlt)\n",
    "dataframe1\n"
   ]
  },
  {
   "cell_type": "code",
   "execution_count": null,
   "id": "c4b7fd8c",
   "metadata": {},
   "outputs": [],
   "source": []
  },
  {
   "cell_type": "code",
   "execution_count": null,
   "id": "6da6e699",
   "metadata": {},
   "outputs": [],
   "source": []
  },
  {
   "cell_type": "code",
   "execution_count": null,
   "id": "91b633ce",
   "metadata": {},
   "outputs": [],
   "source": []
  }
 ],
 "metadata": {
  "kernelspec": {
   "display_name": "Python 3 (ipykernel)",
   "language": "python",
   "name": "python3"
  },
  "language_info": {
   "codemirror_mode": {
    "name": "ipython",
    "version": 3
   },
   "file_extension": ".py",
   "mimetype": "text/x-python",
   "name": "python",
   "nbconvert_exporter": "python",
   "pygments_lexer": "ipython3",
   "version": "3.10.9"
  }
 },
 "nbformat": 4,
 "nbformat_minor": 5
}

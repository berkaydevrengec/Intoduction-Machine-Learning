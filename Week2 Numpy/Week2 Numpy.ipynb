{
 "cells": [
  {
   "cell_type": "markdown",
   "id": "c8586604",
   "metadata": {},
   "source": [
    "# **Numpy**\n"
   ]
  },
  {
   "cell_type": "code",
   "execution_count": 1,
   "id": "7ef60fd6",
   "metadata": {},
   "outputs": [],
   "source": [
    "#importing\n",
    "import numpy as np #numpy kütüphanesi import edilip kısayol olarak np kullanılır."
   ]
  },
  {
   "cell_type": "code",
   "execution_count": 2,
   "id": "da7e7a3a",
   "metadata": {},
   "outputs": [
    {
     "name": "stdout",
     "output_type": "stream",
     "text": [
      "[1 2 3]\n"
     ]
    }
   ],
   "source": [
    "array = np.array([1,2,3]) #numpy'ın array methodu çağrılıp array oluşturulur.\n",
    "                          #1*3 vector oluşturuldu\n",
    "#numpy vektör ya da matris oluşturarak matematiksel işlemleri hızlı bir şekilde yapar.\n",
    "print(array)"
   ]
  },
  {
   "cell_type": "code",
   "execution_count": 3,
   "id": "429ea82a",
   "metadata": {},
   "outputs": [
    {
     "name": "stdout",
     "output_type": "stream",
     "text": [
      "(15,)\n"
     ]
    }
   ],
   "source": [
    "array2= np.array([1,2,3,4,5,6,7,8,9,10,11,12,13,14,15])\n",
    "\n",
    "print(array2.shape) #array'ın shape'ine bakılır. \n",
    "                    #(15,) -> 15'e 1'lik bir vektör"
   ]
  },
  {
   "cell_type": "code",
   "execution_count": 4,
   "id": "fb7385eb",
   "metadata": {},
   "outputs": [
    {
     "name": "stdout",
     "output_type": "stream",
     "text": [
      "[[ 1  2  3  4  5]\n",
      " [ 6  7  8  9 10]\n",
      " [11 12 13 14 15]]\n"
     ]
    }
   ],
   "source": [
    "a = array2.reshape(3,5) \n",
    "#oluşturulan vektör 3 satır 5 sütunluk matrise dönüştürüldü.\n",
    "print(a)"
   ]
  },
  {
   "cell_type": "code",
   "execution_count": 5,
   "id": "6fb38831",
   "metadata": {},
   "outputs": [
    {
     "name": "stdout",
     "output_type": "stream",
     "text": [
      "shape:  (3, 5)\n",
      "dimension:  2\n",
      "data type:  int32\n",
      "size:  15\n",
      "type <class 'numpy.ndarray'>\n"
     ]
    }
   ],
   "source": [
    "print(\"shape: \",a.shape) #(3, 5)\n",
    "\n",
    "print(\"dimension: \",a.ndim) #oluşturulan matrisin boyutuna bakılır.\n",
    "                            #dimension:  2\n",
    "\n",
    "print(\"data type: \",a.dtype.name) #data type:  int32\n",
    "#array'in içindeki verilerin datatype'larını öğrenmek için (float,string,integer) bu method kullanılır\n",
    "\n",
    "print(\"size: \",a.size) #reshape'ten önceki boyutu verilir.\n",
    "                       #size:  15\n",
    "                       \n",
    "print(\"type\",type(a))  #type <class 'numpy.ndarray'>"
   ]
  },
  {
   "cell_type": "code",
   "execution_count": 6,
   "id": "74686d8b",
   "metadata": {},
   "outputs": [],
   "source": [
    "array3= np.array([[1,2,3,4],[5,6,7,8],[9,10,11,12]]) #reshape yapmadan da boyutu değiştirilebilir."
   ]
  },
  {
   "cell_type": "code",
   "execution_count": 7,
   "id": "61d93f0c",
   "metadata": {},
   "outputs": [
    {
     "name": "stdout",
     "output_type": "stream",
     "text": [
      "[[ 1  2  3  4]\n",
      " [ 5  6  7  8]\n",
      " [ 9 10 11 12]]\n"
     ]
    }
   ],
   "source": [
    "print(array3) #array([[ 1,  2,  3,  4],\n",
    "                     #[ 5,  6,  7,  8],\n",
    "                     #[ 9, 10, 11, 12]])"
   ]
  },
  {
   "cell_type": "code",
   "execution_count": 8,
   "id": "f9cdcf44",
   "metadata": {},
   "outputs": [
    {
     "name": "stdout",
     "output_type": "stream",
     "text": [
      "(3, 4)\n"
     ]
    }
   ],
   "source": [
    "print(array3.shape) #(3, 4)"
   ]
  },
  {
   "cell_type": "code",
   "execution_count": 9,
   "id": "eba3ca15",
   "metadata": {},
   "outputs": [],
   "source": [
    "zeros= np.zeros((3,4)) #3 satır 4 sütunluk sıfırlardan oluşan array yaratılır.\n",
    "#bu matris ile memoryde yer ayırtılır, güncelleme yapılmak istendiğinde güncellenir.\n",
    "#append gibi fonksiyonlar memory'iyi yorar ve programı yavaşlatır.\n",
    "#o yüzden bu method tercih edilir."
   ]
  },
  {
   "cell_type": "code",
   "execution_count": 10,
   "id": "4fadbd03",
   "metadata": {},
   "outputs": [
    {
     "name": "stdout",
     "output_type": "stream",
     "text": [
      "[[5. 0. 0. 0.]\n",
      " [0. 0. 0. 0.]\n",
      " [0. 0. 0. 0.]]\n"
     ]
    }
   ],
   "source": [
    "zeros[0,0]=5\n",
    "print(zeros)"
   ]
  },
  {
   "cell_type": "code",
   "execution_count": 11,
   "id": "4fce2668",
   "metadata": {},
   "outputs": [
    {
     "data": {
      "text/plain": [
       "array([[1., 1., 1., 1.],\n",
       "       [1., 1., 1., 1.],\n",
       "       [1., 1., 1., 1.]])"
      ]
     },
     "execution_count": 11,
     "metadata": {},
     "output_type": "execute_result"
    }
   ],
   "source": [
    "np.ones((3,4)) #1'lerden oluşan 3*4'lük bir matris yaratır."
   ]
  },
  {
   "cell_type": "code",
   "execution_count": 12,
   "id": "8d657390",
   "metadata": {},
   "outputs": [
    {
     "data": {
      "text/plain": [
       "array([[6.23042070e-307, 4.67296746e-307, 1.69121096e-306,\n",
       "        1.06810879e-306, 7.56587585e-307],\n",
       "       [1.37961302e-306, 1.05699242e-307, 8.01097889e-307,\n",
       "        1.78020169e-306, 7.56601165e-307],\n",
       "       [1.02359984e-306, 1.33510679e-306, 2.22522597e-306,\n",
       "        1.24611674e-306, 1.29061821e-306],\n",
       "       [6.23057349e-307, 1.29062025e-306, 6.89807188e-307,\n",
       "        2.22522596e-306, 0.00000000e+000]])"
      ]
     },
     "execution_count": 12,
     "metadata": {},
     "output_type": "execute_result"
    }
   ],
   "source": [
    "np.empty((4,5)) #boş bir array oluşturulur."
   ]
  },
  {
   "cell_type": "code",
   "execution_count": 13,
   "id": "4cb8474a",
   "metadata": {},
   "outputs": [
    {
     "data": {
      "text/plain": [
       "array([10, 15, 20, 25, 30, 35, 40, 45])"
      ]
     },
     "execution_count": 13,
     "metadata": {},
     "output_type": "execute_result"
    }
   ],
   "source": [
    "np.arange(10,50,5) #10 ve 50 arasındaki sayılar 5'er 5'er yazdırılır.\n",
    "#array([10, 15, 20, 25, 30, 35, 40, 45])"
   ]
  },
  {
   "cell_type": "code",
   "execution_count": 14,
   "id": "7b29c1c4",
   "metadata": {},
   "outputs": [
    {
     "name": "stdout",
     "output_type": "stream",
     "text": [
      "[ 0.          0.52631579  1.05263158  1.57894737  2.10526316  2.63157895\n",
      "  3.15789474  3.68421053  4.21052632  4.73684211  5.26315789  5.78947368\n",
      "  6.31578947  6.84210526  7.36842105  7.89473684  8.42105263  8.94736842\n",
      "  9.47368421 10.        ]\n"
     ]
    }
   ],
   "source": [
    "a= np.linspace(0,10,20) #0 ile 10 arasında 20 tane sayı yazdırılır.\n",
    "#array([ 0.        ,  0.52631579,  1.05263158,  1.57894737,  2.10526316,\n",
    "#       2.63157895,  3.15789474,  3.68421053,  4.21052632,  4.73684211,\n",
    "#       5.26315789,  5.78947368,  6.31578947,  6.84210526,  7.36842105,\n",
    "#       7.89473684,  8.42105263,  8.94736842,  9.47368421, 10.        ])\n",
    "print(a)"
   ]
  },
  {
   "cell_type": "code",
   "execution_count": 16,
   "id": "daa5de41",
   "metadata": {},
   "outputs": [
    {
     "name": "stdout",
     "output_type": "stream",
     "text": [
      "[5 7 9]\n",
      "[-3 -3 -3]\n",
      "[1 4 9]\n"
     ]
    }
   ],
   "source": [
    "#numpy basic operations\n",
    "a= np.array([1,2,3])\n",
    "b= np.array([4,5,6]) #toplama çıkarma gibi işlemlerde boyutlarının aynı olması önemlidir.\n",
    "\n",
    "print(a+b) #[5 7 9]\n",
    "print(a-b) #[-3 -3 -3]\n",
    "print(a**2) #[1 4 9]"
   ]
  },
  {
   "cell_type": "code",
   "execution_count": 15,
   "id": "ac5cb7ae",
   "metadata": {},
   "outputs": [],
   "source": [
    "#arraylerde saymaya sıfırdan başlanır.\n",
    "a= np.array([1,2,3,4,5,6,7]) #vektor -> dimension 1"
   ]
  },
  {
   "cell_type": "code",
   "execution_count": 23,
   "id": "81298b9a",
   "metadata": {},
   "outputs": [
    {
     "name": "stdout",
     "output_type": "stream",
     "text": [
      "[1, 2, 3, 4]\n",
      "[5 6 7 8]\n"
     ]
    }
   ],
   "source": [
    "liste = [1,2,3,4]\n",
    "\n",
    "array = np.array([5,6,7,8])\n",
    "#array tanımlamak için array'in içine liste yazılır.\n",
    "print(liste)\n",
    "print(array)"
   ]
  },
  {
   "cell_type": "code",
   "execution_count": 24,
   "id": "9f3760ac",
   "metadata": {},
   "outputs": [
    {
     "name": "stdout",
     "output_type": "stream",
     "text": [
      "[1 2 3 4]\n"
     ]
    }
   ],
   "source": [
    "array = np.array(liste)\n",
    "print(array)"
   ]
  },
  {
   "cell_type": "code",
   "execution_count": 25,
   "id": "628d240c",
   "metadata": {},
   "outputs": [
    {
     "name": "stdout",
     "output_type": "stream",
     "text": [
      "[1, 2, 3, 4]\n"
     ]
    }
   ],
   "source": [
    "liste2 = list(array) #arrayden listeye geçilir.\n",
    "print(liste2)"
   ]
  },
  {
   "cell_type": "code",
   "execution_count": 29,
   "id": "4ba9224e",
   "metadata": {},
   "outputs": [
    {
     "name": "stdout",
     "output_type": "stream",
     "text": [
      "[1 2 3]\n"
     ]
    }
   ],
   "source": [
    "a = np.array([1,2,3])\n",
    "print(a)"
   ]
  },
  {
   "cell_type": "code",
   "execution_count": 31,
   "id": "131551f1",
   "metadata": {},
   "outputs": [
    {
     "name": "stdout",
     "output_type": "stream",
     "text": [
      "[5 2 3] [5 2 3] [5 2 3]\n"
     ]
    }
   ],
   "source": [
    "b=a\n",
    "\n",
    "c=a\n",
    "\n",
    "b[0]=5 #bu örnekte a,b,c arraylerinin hepsinin 0. indeksi değişir.\n",
    "#bunun sebebi np.array memory'de bir değer olarak değil bir alan olarak depolanır.\n",
    "#a,b,c için memory aynı alan ayrıldığından bir tanesi değiştirilince hepsi değişir.\n",
    "print(a,b,c)"
   ]
  },
  {
   "cell_type": "code",
   "execution_count": 30,
   "id": "5a764d65",
   "metadata": {},
   "outputs": [
    {
     "name": "stdout",
     "output_type": "stream",
     "text": [
      "[1 2 3]\n"
     ]
    }
   ],
   "source": [
    "d = a.copy() #copy methoduyla memory yeni bir alan tahsis edilir.\n",
    "#böylelikle birinin bir indeksi değişince diğerleri bundan etkilenmez."
   ]
  },
  {
   "cell_type": "code",
   "execution_count": 34,
   "id": "ee1dc9a2",
   "metadata": {},
   "outputs": [
    {
     "name": "stdout",
     "output_type": "stream",
     "text": [
      "[1 2 3 4 5 6 7]\n"
     ]
    }
   ],
   "source": [
    "a= np.array([1,2,3,4,5,6,7]) #vector -> dimension 1\n",
    "print(a)"
   ]
  },
  {
   "cell_type": "code",
   "execution_count": 35,
   "id": "d55bf793",
   "metadata": {},
   "outputs": [
    {
     "name": "stdout",
     "output_type": "stream",
     "text": [
      "1\n"
     ]
    }
   ],
   "source": [
    "print(a[0]) #arraydeki 1 sayısını verir."
   ]
  },
  {
   "cell_type": "code",
   "execution_count": 36,
   "id": "26b8d670",
   "metadata": {},
   "outputs": [
    {
     "name": "stdout",
     "output_type": "stream",
     "text": [
      "[1 2 3 4]\n"
     ]
    }
   ],
   "source": [
    "print(a[0:4]) #ilk 4 indeksi yazdırır."
   ]
  },
  {
   "cell_type": "code",
   "execution_count": 38,
   "id": "b3d05df4",
   "metadata": {},
   "outputs": [
    {
     "name": "stdout",
     "output_type": "stream",
     "text": [
      "[7 6 5 4 3 2 1]\n"
     ]
    }
   ],
   "source": [
    "reverse_array = a[::-1] #array'i ters çevirir.\n",
    "print(reverse_array)"
   ]
  },
  {
   "cell_type": "code",
   "execution_count": 5,
   "id": "788d2140",
   "metadata": {},
   "outputs": [
    {
     "name": "stdout",
     "output_type": "stream",
     "text": [
      "[[ 1  2  3  4  5]\n",
      " [ 6  7  8  9 10]]\n"
     ]
    }
   ],
   "source": [
    "b = np.array([[1,2,3,4,5],[6,7,8,9,10]]) \n",
    "print(b)"
   ]
  },
  {
   "cell_type": "code",
   "execution_count": 40,
   "id": "75d62246",
   "metadata": {},
   "outputs": [
    {
     "name": "stdout",
     "output_type": "stream",
     "text": [
      "7\n",
      "[2 7]\n",
      "[ 6  7  8  9 10]\n",
      "[7 8 9]\n",
      "[ 6  7  8  9 10]\n",
      "[ 5 10]\n"
     ]
    }
   ],
   "source": [
    "print(b[1,1]) #1.satır 1.sütundaki değer olan 7'yi verir.\n",
    "\n",
    "print(b[:,1]) #satırların hepsini ve 2. sütunu verir. [2 7]\n",
    "\n",
    "print(b[1,:]) #2.satırdaki elemanların tamamını verir. [ 6  7  8  9 10]\n",
    "\n",
    "print(b[1,1:4]) #2.satır 2. 3. 4. sütunları verir. [7 8 9]\n",
    "\n",
    "print(b[-1,:]) #son satır ve tüm sütunları alır. [ 6  7  8  9 10]\n",
    "\n",
    "print(b[:,-1]) #son sütun ve tüm satırlari alır. [ 5 10]"
   ]
  },
  {
   "cell_type": "code",
   "execution_count": 42,
   "id": "339ffdd3",
   "metadata": {},
   "outputs": [
    {
     "name": "stdout",
     "output_type": "stream",
     "text": [
      "[[1 2 3]\n",
      " [4 5 6]\n",
      " [7 8 9]]\n"
     ]
    }
   ],
   "source": [
    "array = np.array([[1,2,3],[4,5,6],[7,8,9]]) #3*3'lük array oluşturuldu.\n",
    "print(array)"
   ]
  },
  {
   "cell_type": "code",
   "execution_count": 43,
   "id": "b7065191",
   "metadata": {},
   "outputs": [
    {
     "name": "stdout",
     "output_type": "stream",
     "text": [
      "[1 2 3 4 5 6 7 8 9]\n"
     ]
    }
   ],
   "source": [
    "a = array.ravel() #ravel methoduyla tek boyutlu hale getirilir.\n",
    "print(a)"
   ]
  },
  {
   "cell_type": "code",
   "execution_count": 44,
   "id": "324055eb",
   "metadata": {},
   "outputs": [
    {
     "name": "stdout",
     "output_type": "stream",
     "text": [
      "[[1 2 3]\n",
      " [4 5 6]\n",
      " [7 8 9]]\n"
     ]
    }
   ],
   "source": [
    "array2 = a.reshape(3,3) #tekrardan 3*3'lük array haline getirildi.\n",
    "print(array2)"
   ]
  },
  {
   "cell_type": "code",
   "execution_count": 45,
   "id": "83ed3932",
   "metadata": {},
   "outputs": [
    {
     "name": "stdout",
     "output_type": "stream",
     "text": [
      "[[1 4 7]\n",
      " [2 5 8]\n",
      " [3 6 9]]\n"
     ]
    }
   ],
   "source": [
    "array_transpose = array2.T #array'in transpose'u alınır.\n",
    "                           #array([[1, 4, 7],\n",
    "                                  #[2, 5, 8],\n",
    "                                  #[3, 6, 9]])\n",
    "print(array_transpose)"
   ]
  },
  {
   "cell_type": "code",
   "execution_count": 46,
   "id": "e5592d5b",
   "metadata": {},
   "outputs": [
    {
     "name": "stdout",
     "output_type": "stream",
     "text": [
      "[[1 2]\n",
      " [3 4]\n",
      " [5 6]]\n"
     ]
    }
   ],
   "source": [
    "array3 = np.array([[1,2],[3,4],[5,6]])\n",
    "print(array3)"
   ]
  },
  {
   "cell_type": "code",
   "execution_count": 48,
   "id": "2be4d202",
   "metadata": {},
   "outputs": [
    {
     "name": "stdout",
     "output_type": "stream",
     "text": [
      "[[1 2 3]\n",
      " [4 5 6]]\n"
     ]
    }
   ],
   "source": [
    "array3.resize((2,3)) #resize ile yapılan boyut değişimleri kalıcıdır, aynı array'in içine kaydeder.\n",
    "#reshape ile yapılan değişimler kalıcı değildir. yapılan değişim başka bir değişkene kaydedilmelidir.\n",
    "print(array3)"
   ]
  }
 ],
 "metadata": {
  "kernelspec": {
   "display_name": "Python 3 (ipykernel)",
   "language": "python",
   "name": "python3"
  },
  "language_info": {
   "codemirror_mode": {
    "name": "ipython",
    "version": 3
   },
   "file_extension": ".py",
   "mimetype": "text/x-python",
   "name": "python",
   "nbconvert_exporter": "python",
   "pygments_lexer": "ipython3",
   "version": "3.10.9"
  }
 },
 "nbformat": 4,
 "nbformat_minor": 5
}

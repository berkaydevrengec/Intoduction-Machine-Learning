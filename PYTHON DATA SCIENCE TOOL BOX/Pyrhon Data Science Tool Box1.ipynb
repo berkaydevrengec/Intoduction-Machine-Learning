{
 "cells": [
  {
   "cell_type": "markdown",
   "id": "549f1308",
   "metadata": {},
   "source": [
    "# USER DEFINED FUNCTIONS"
   ]
  },
  {
   "cell_type": "markdown",
   "id": "33328963",
   "metadata": {},
   "source": [
    "Kendi tanımladığımız fonksiyonlar:"
   ]
  },
  {
   "cell_type": "code",
   "execution_count": 5,
   "id": "16d29fcc",
   "metadata": {},
   "outputs": [
    {
     "name": "stdout",
     "output_type": "stream",
     "text": [
      "1 2 3\n"
     ]
    }
   ],
   "source": [
    "def tuble_ex():\n",
    "    \"\"\"return defined t tuble\"\"\"\n",
    "    t=(1,2,3)\n",
    "    return t\n",
    "a,b,c = tuble_ex()\n",
    "print(a,b,c)\n",
    "    \n",
    "    "
   ]
  },
  {
   "cell_type": "markdown",
   "id": "0727c02f",
   "metadata": {},
   "source": [
    "# SCOPE"
   ]
  },
  {
   "cell_type": "markdown",
   "id": "112f4113",
   "metadata": {},
   "source": [
    "Bir fonksiyonun tüm sınırlarını scope ile belirleriz. Global ve local olarak ikiye ayrılır olarak düşünülebilir.\n",
    "\n",
    "global: defined main body in script\n",
    "local: defined in a function\n",
    "built in scope: names in predefined built in scope module such as print, len"
   ]
  },
  {
   "cell_type": "code",
   "execution_count": 6,
   "id": "1e06df20",
   "metadata": {},
   "outputs": [
    {
     "name": "stdout",
     "output_type": "stream",
     "text": [
      "2\n",
      "3\n"
     ]
    }
   ],
   "source": [
    "x=2\n",
    "def f():\n",
    "    x=3\n",
    "    return x\n",
    "print(x)\n",
    "print(f())"
   ]
  },
  {
   "cell_type": "code",
   "execution_count": 7,
   "id": "0bbc52c7",
   "metadata": {},
   "outputs": [
    {
     "name": "stdout",
     "output_type": "stream",
     "text": [
      "10\n"
     ]
    }
   ],
   "source": [
    "x=5\n",
    "def f():\n",
    "    y=2*x\n",
    "    return y\n",
    "print(f())"
   ]
  },
  {
   "cell_type": "code",
   "execution_count": 9,
   "id": "384b5de9",
   "metadata": {},
   "outputs": [
    {
     "data": {
      "text/plain": [
       "['ArithmeticError',\n",
       " 'AssertionError',\n",
       " 'AttributeError',\n",
       " 'BaseException',\n",
       " 'BlockingIOError',\n",
       " 'BrokenPipeError',\n",
       " 'BufferError',\n",
       " 'BytesWarning',\n",
       " 'ChildProcessError',\n",
       " 'ConnectionAbortedError',\n",
       " 'ConnectionError',\n",
       " 'ConnectionRefusedError',\n",
       " 'ConnectionResetError',\n",
       " 'DeprecationWarning',\n",
       " 'EOFError',\n",
       " 'Ellipsis',\n",
       " 'EncodingWarning',\n",
       " 'EnvironmentError',\n",
       " 'Exception',\n",
       " 'False',\n",
       " 'FileExistsError',\n",
       " 'FileNotFoundError',\n",
       " 'FloatingPointError',\n",
       " 'FutureWarning',\n",
       " 'GeneratorExit',\n",
       " 'IOError',\n",
       " 'ImportError',\n",
       " 'ImportWarning',\n",
       " 'IndentationError',\n",
       " 'IndexError',\n",
       " 'InterruptedError',\n",
       " 'IsADirectoryError',\n",
       " 'KeyError',\n",
       " 'KeyboardInterrupt',\n",
       " 'LookupError',\n",
       " 'MemoryError',\n",
       " 'ModuleNotFoundError',\n",
       " 'NameError',\n",
       " 'None',\n",
       " 'NotADirectoryError',\n",
       " 'NotImplemented',\n",
       " 'NotImplementedError',\n",
       " 'OSError',\n",
       " 'OverflowError',\n",
       " 'PendingDeprecationWarning',\n",
       " 'PermissionError',\n",
       " 'ProcessLookupError',\n",
       " 'RecursionError',\n",
       " 'ReferenceError',\n",
       " 'ResourceWarning',\n",
       " 'RuntimeError',\n",
       " 'RuntimeWarning',\n",
       " 'StopAsyncIteration',\n",
       " 'StopIteration',\n",
       " 'SyntaxError',\n",
       " 'SyntaxWarning',\n",
       " 'SystemError',\n",
       " 'SystemExit',\n",
       " 'TabError',\n",
       " 'TimeoutError',\n",
       " 'True',\n",
       " 'TypeError',\n",
       " 'UnboundLocalError',\n",
       " 'UnicodeDecodeError',\n",
       " 'UnicodeEncodeError',\n",
       " 'UnicodeError',\n",
       " 'UnicodeTranslateError',\n",
       " 'UnicodeWarning',\n",
       " 'UserWarning',\n",
       " 'ValueError',\n",
       " 'Warning',\n",
       " 'WindowsError',\n",
       " 'ZeroDivisionError',\n",
       " '__IPYTHON__',\n",
       " '__build_class__',\n",
       " '__debug__',\n",
       " '__doc__',\n",
       " '__import__',\n",
       " '__loader__',\n",
       " '__name__',\n",
       " '__package__',\n",
       " '__spec__',\n",
       " 'abs',\n",
       " 'aiter',\n",
       " 'all',\n",
       " 'anext',\n",
       " 'any',\n",
       " 'ascii',\n",
       " 'bin',\n",
       " 'bool',\n",
       " 'breakpoint',\n",
       " 'bytearray',\n",
       " 'bytes',\n",
       " 'callable',\n",
       " 'chr',\n",
       " 'classmethod',\n",
       " 'compile',\n",
       " 'complex',\n",
       " 'copyright',\n",
       " 'credits',\n",
       " 'delattr',\n",
       " 'dict',\n",
       " 'dir',\n",
       " 'display',\n",
       " 'divmod',\n",
       " 'enumerate',\n",
       " 'eval',\n",
       " 'exec',\n",
       " 'execfile',\n",
       " 'filter',\n",
       " 'float',\n",
       " 'format',\n",
       " 'frozenset',\n",
       " 'get_ipython',\n",
       " 'getattr',\n",
       " 'globals',\n",
       " 'hasattr',\n",
       " 'hash',\n",
       " 'help',\n",
       " 'hex',\n",
       " 'id',\n",
       " 'input',\n",
       " 'int',\n",
       " 'isinstance',\n",
       " 'issubclass',\n",
       " 'iter',\n",
       " 'len',\n",
       " 'license',\n",
       " 'list',\n",
       " 'locals',\n",
       " 'map',\n",
       " 'max',\n",
       " 'memoryview',\n",
       " 'min',\n",
       " 'next',\n",
       " 'object',\n",
       " 'oct',\n",
       " 'open',\n",
       " 'ord',\n",
       " 'pow',\n",
       " 'print',\n",
       " 'property',\n",
       " 'range',\n",
       " 'repr',\n",
       " 'reversed',\n",
       " 'round',\n",
       " 'runfile',\n",
       " 'set',\n",
       " 'setattr',\n",
       " 'slice',\n",
       " 'sorted',\n",
       " 'staticmethod',\n",
       " 'str',\n",
       " 'sum',\n",
       " 'super',\n",
       " 'tuple',\n",
       " 'type',\n",
       " 'vars',\n",
       " 'zip']"
      ]
     },
     "execution_count": 9,
     "metadata": {},
     "output_type": "execute_result"
    }
   ],
   "source": [
    "#How can learn what is built in scope\n",
    "import builtins\n",
    "dir(builtins)"
   ]
  },
  {
   "cell_type": "markdown",
   "id": "1e41dd3a",
   "metadata": {},
   "source": [
    "# NESTED, DEFAULT, FLEXIBLE, LAMDA , ANOMYMOUS FUNCTIONS"
   ]
  },
  {
   "cell_type": "markdown",
   "id": "938e1d09",
   "metadata": {},
   "source": [
    "NESTED\n",
    "\n",
    "function inside function\n",
    "\n",
    "There is a LEGB rule that is search local scope, enclosing function, global and built in scopes ,respectively"
   ]
  },
  {
   "cell_type": "code",
   "execution_count": 10,
   "id": "b1a5dcf2",
   "metadata": {},
   "outputs": [
    {
     "name": "stdout",
     "output_type": "stream",
     "text": [
      "25\n"
     ]
    }
   ],
   "source": [
    "def square():\n",
    "    \"\"\"return square value\"\"\"\n",
    "    \n",
    "    def add():\n",
    "        \"\"\"add two local variable\"\"\"\n",
    "        x=2\n",
    "        y=3\n",
    "        z=x+y\n",
    "        return z\n",
    "    return add()**2\n",
    "print(square())"
   ]
  },
  {
   "cell_type": "markdown",
   "id": "9faa740b",
   "metadata": {},
   "source": [
    "DEFAULT and FLEXIBLE ARGUMENTS\n",
    "\n",
    "default argument example \n",
    "\n",
    "def f(a,b=1)\n",
    "\n",
    "    \"\"\"b=1 is default argument\"\"\"\n",
    "    \n",
    "    \n",
    "    \n",
    "flexible argument ex:\n",
    "\n",
    "def(*args):\n",
    "\n",
    "      \"\"\"args can be one or more \"\"\"\n",
    "             \n",
    "def f(**kwargs)\n",
    "\n",
    "      \"\"\"**kwargs is a dictionary\"\"\""
   ]
  },
  {
   "cell_type": "code",
   "execution_count": 12,
   "id": "fad7b2b5",
   "metadata": {},
   "outputs": [
    {
     "name": "stdout",
     "output_type": "stream",
     "text": [
      "8\n",
      "12\n"
     ]
    }
   ],
   "source": [
    "#default arguments\n",
    "def f(a,b=1, c=2):\n",
    "    y=a+b+c\n",
    "    return y\n",
    "\n",
    "print(f(5))\n",
    "\n",
    "#what if we want to change default arguments\n",
    "\n",
    "print(f(5,4,3))"
   ]
  },
  {
   "cell_type": "code",
   "execution_count": 14,
   "id": "9d952162",
   "metadata": {},
   "outputs": [
    {
     "name": "stdout",
     "output_type": "stream",
     "text": [
      "1\n",
      " \n",
      "1\n",
      "2\n",
      "3\n",
      "4\n",
      "5\n",
      "country   spain\n",
      "capital    madrid\n",
      "population   1245354\n"
     ]
    }
   ],
   "source": [
    "def f(*args):\n",
    "    for i in args:\n",
    "        print(i)\n",
    "        \n",
    "        \n",
    "f(1)\n",
    "\n",
    "print(\" \")\n",
    "f(1,2,3,4,5)\n",
    "#flexible argumetns **kwargs that is dict\n",
    "\n",
    "def f(**kwargs):\n",
    "    \"\"\"print key and value of dict\"\"\"\n",
    "    for key, value in kwargs.items():\n",
    "        print(key, \" \",value)\n",
    "        \n",
    "        \n",
    "f(country= \"spain\", capital= \" madrid\", population= 1245354)\n",
    "        \n"
   ]
  },
  {
   "cell_type": "markdown",
   "id": "a40e1fab",
   "metadata": {},
   "source": [
    "# LAMBDA"
   ]
  },
  {
   "cell_type": "markdown",
   "id": "d76e4cc2",
   "metadata": {},
   "source": [
    "Shorcut"
   ]
  },
  {
   "cell_type": "code",
   "execution_count": 15,
   "id": "0459b535",
   "metadata": {},
   "outputs": [
    {
     "name": "stdout",
     "output_type": "stream",
     "text": [
      "25\n",
      "16\n"
     ]
    }
   ],
   "source": [
    "def square(x):\n",
    "    return x**2\n",
    "print(square(5))\n",
    "\n",
    "\n",
    "\n",
    "square = lambda x: x**2\n",
    "print(square(4))"
   ]
  },
  {
   "cell_type": "code",
   "execution_count": 16,
   "id": "a6c8fc00",
   "metadata": {},
   "outputs": [
    {
     "name": "stdout",
     "output_type": "stream",
     "text": [
      "6\n"
     ]
    }
   ],
   "source": [
    "tot= lambda x,y,z: x+y+z\n",
    "print(tot(1,2,3))"
   ]
  },
  {
   "cell_type": "markdown",
   "id": "914dd1f0",
   "metadata": {},
   "source": [
    "# ANONYMOUS FUNCTION"
   ]
  },
  {
   "cell_type": "markdown",
   "id": "8383bf91",
   "metadata": {},
   "source": [
    "like lamda function but it can take more than one arguments.\n",
    "\n",
    "map(func,seq): applies function to all the items in a list "
   ]
  },
  {
   "cell_type": "code",
   "execution_count": 18,
   "id": "7d570963",
   "metadata": {},
   "outputs": [
    {
     "name": "stdout",
     "output_type": "stream",
     "text": [
      "[1, 4, 9]\n"
     ]
    }
   ],
   "source": [
    "number_list= [1,2,3]\n",
    "y= map(lambda x:x**2, number_list)\n",
    "print(list(y))"
   ]
  },
  {
   "cell_type": "code",
   "execution_count": 19,
   "id": "8383dac3",
   "metadata": {},
   "outputs": [
    {
     "name": "stdout",
     "output_type": "stream",
     "text": [
      "4\n"
     ]
    }
   ],
   "source": [
    "def sum(a,b):\n",
    "\n",
    "    def sub(a,b):\n",
    "\n",
    "        return a-b\n",
    "\n",
    "    return sub(a,b) + 2\n",
    "\n",
    "print(sum(3,1))"
   ]
  },
  {
   "cell_type": "code",
   "execution_count": 22,
   "id": "d6631817",
   "metadata": {},
   "outputs": [
    {
     "data": {
      "text/plain": [
       "4"
      ]
     },
     "execution_count": 22,
     "metadata": {},
     "output_type": "execute_result"
    }
   ],
   "source": [
    "def s(x, y = 2):\n",
    "\n",
    "    return x**2\n",
    "\n",
    "\n",
    "s(2,3)"
   ]
  },
  {
   "cell_type": "code",
   "execution_count": 23,
   "id": "5a2894ca",
   "metadata": {},
   "outputs": [
    {
     "name": "stdout",
     "output_type": "stream",
     "text": [
      "3\n",
      "5\n",
      "7\n"
     ]
    }
   ],
   "source": [
    "def f(*args):\n",
    "\n",
    "    for i in args:\n",
    "\n",
    "        print(i)\n",
    "\n",
    "f(3,5,7)"
   ]
  },
  {
   "cell_type": "code",
   "execution_count": 24,
   "id": "526fd466",
   "metadata": {},
   "outputs": [
    {
     "name": "stdout",
     "output_type": "stream",
     "text": [
      "8\n"
     ]
    }
   ],
   "source": [
    "tot = lambda x,y,z: x*y**z   # where x,y,z are names of arguments\n",
    "print(tot(1,2,3))"
   ]
  },
  {
   "cell_type": "code",
   "execution_count": 25,
   "id": "eb90f402",
   "metadata": {},
   "outputs": [
    {
     "name": "stdout",
     "output_type": "stream",
     "text": [
      "[1, 8, 27]\n"
     ]
    }
   ],
   "source": [
    "number_list = [1,2,3]\n",
    "\n",
    "y = map(lambda x:x**3,number_list)\n",
    "\n",
    "print(list(y)) "
   ]
  },
  {
   "cell_type": "code",
   "execution_count": null,
   "id": "dd4bd639",
   "metadata": {},
   "outputs": [],
   "source": []
  }
 ],
 "metadata": {
  "kernelspec": {
   "display_name": "Python 3 (ipykernel)",
   "language": "python",
   "name": "python3"
  },
  "language_info": {
   "codemirror_mode": {
    "name": "ipython",
    "version": 3
   },
   "file_extension": ".py",
   "mimetype": "text/x-python",
   "name": "python",
   "nbconvert_exporter": "python",
   "pygments_lexer": "ipython3",
   "version": "3.10.9"
  }
 },
 "nbformat": 4,
 "nbformat_minor": 5
}

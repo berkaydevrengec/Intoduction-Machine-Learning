{
 "cells": [
  {
   "cell_type": "markdown",
   "id": "0a9dc0ac",
   "metadata": {},
   "source": [
    "# Linear Regression"
   ]
  },
  {
   "cell_type": "code",
   "execution_count": 1,
   "id": "d3182f5a",
   "metadata": {},
   "outputs": [],
   "source": [
    "import pandas as pd\n",
    "import matplotlib.pyplot as plt"
   ]
  },
  {
   "cell_type": "code",
   "execution_count": 2,
   "id": "dcc269ac",
   "metadata": {},
   "outputs": [],
   "source": [
    "df= pd.read_csv(\"verisetix.csv\", sep=\";\")"
   ]
  },
  {
   "cell_type": "code",
   "execution_count": 8,
   "id": "20bd9c2d",
   "metadata": {},
   "outputs": [
    {
     "data": {
      "text/html": [
       "<div>\n",
       "<style scoped>\n",
       "    .dataframe tbody tr th:only-of-type {\n",
       "        vertical-align: middle;\n",
       "    }\n",
       "\n",
       "    .dataframe tbody tr th {\n",
       "        vertical-align: top;\n",
       "    }\n",
       "\n",
       "    .dataframe thead th {\n",
       "        text-align: right;\n",
       "    }\n",
       "</style>\n",
       "<table border=\"1\" class=\"dataframe\">\n",
       "  <thead>\n",
       "    <tr style=\"text-align: right;\">\n",
       "      <th></th>\n",
       "      <th>experience</th>\n",
       "      <th>salary</th>\n",
       "    </tr>\n",
       "  </thead>\n",
       "  <tbody>\n",
       "    <tr>\n",
       "      <th>0</th>\n",
       "      <td>0.5</td>\n",
       "      <td>2500</td>\n",
       "    </tr>\n",
       "    <tr>\n",
       "      <th>1</th>\n",
       "      <td>0.0</td>\n",
       "      <td>2250</td>\n",
       "    </tr>\n",
       "    <tr>\n",
       "      <th>2</th>\n",
       "      <td>1.0</td>\n",
       "      <td>2750</td>\n",
       "    </tr>\n",
       "    <tr>\n",
       "      <th>3</th>\n",
       "      <td>5.0</td>\n",
       "      <td>8000</td>\n",
       "    </tr>\n",
       "    <tr>\n",
       "      <th>4</th>\n",
       "      <td>8.0</td>\n",
       "      <td>9000</td>\n",
       "    </tr>\n",
       "    <tr>\n",
       "      <th>5</th>\n",
       "      <td>4.0</td>\n",
       "      <td>6900</td>\n",
       "    </tr>\n",
       "    <tr>\n",
       "      <th>6</th>\n",
       "      <td>15.0</td>\n",
       "      <td>20000</td>\n",
       "    </tr>\n",
       "    <tr>\n",
       "      <th>7</th>\n",
       "      <td>7.0</td>\n",
       "      <td>8500</td>\n",
       "    </tr>\n",
       "    <tr>\n",
       "      <th>8</th>\n",
       "      <td>3.0</td>\n",
       "      <td>6000</td>\n",
       "    </tr>\n",
       "    <tr>\n",
       "      <th>9</th>\n",
       "      <td>2.0</td>\n",
       "      <td>3500</td>\n",
       "    </tr>\n",
       "    <tr>\n",
       "      <th>10</th>\n",
       "      <td>12.0</td>\n",
       "      <td>15000</td>\n",
       "    </tr>\n",
       "    <tr>\n",
       "      <th>11</th>\n",
       "      <td>10.0</td>\n",
       "      <td>13000</td>\n",
       "    </tr>\n",
       "    <tr>\n",
       "      <th>12</th>\n",
       "      <td>14.0</td>\n",
       "      <td>18000</td>\n",
       "    </tr>\n",
       "    <tr>\n",
       "      <th>13</th>\n",
       "      <td>6.0</td>\n",
       "      <td>7500</td>\n",
       "    </tr>\n",
       "  </tbody>\n",
       "</table>\n",
       "</div>"
      ],
      "text/plain": [
       "    experience  salary\n",
       "0          0.5    2500\n",
       "1          0.0    2250\n",
       "2          1.0    2750\n",
       "3          5.0    8000\n",
       "4          8.0    9000\n",
       "5          4.0    6900\n",
       "6         15.0   20000\n",
       "7          7.0    8500\n",
       "8          3.0    6000\n",
       "9          2.0    3500\n",
       "10        12.0   15000\n",
       "11        10.0   13000\n",
       "12        14.0   18000\n",
       "13         6.0    7500"
      ]
     },
     "execution_count": 8,
     "metadata": {},
     "output_type": "execute_result"
    }
   ],
   "source": [
    "df"
   ]
  },
  {
   "cell_type": "markdown",
   "id": "2553cb31",
   "metadata": {},
   "source": [
    "Elimizle bir dataset hazırladık ve bu veriseti üzerinde linear regresyon algoritmasını uygulayacağız. Verisetimiz görselleştirelim ve verisetimizi yakından tanıyalım."
   ]
  },
  {
   "cell_type": "code",
   "execution_count": 5,
   "id": "b571927f",
   "metadata": {},
   "outputs": [
    {
     "data": {
      "image/png": "[encoded data removed]",
      "text/plain": [
       "<Figure size 640x480 with 1 Axes>"
      ]
     },
     "metadata": {},
     "output_type": "display_data"
    }
   ],
   "source": [
    "plt.scatter(df.experience, df.salary)\n",
    "plt.xlabel(\"Experience (Year)\")\n",
    "plt.ylabel(\"Salary(TL)\")\n",
    "plt.show()"
   ]
  },
  {
   "cell_type": "markdown",
   "id": "f5ddd2f6",
   "metadata": {},
   "source": [
    "Linear regresyon bir regresyon algoritmasıdır. Peki Regesyon nedir? Sürekli verilerin tahmininde kullanılan bir algoritmadır. Sürekli veriler(Sayısal veriler.) Eğer ki verisetini yakından incelerseniz her iki değişken arasındaki ilişkiyi (Corelasyon) görmek mümkündür. Linear regresyonda bir model kurmak demek bu iki değişkenin ilişkisine uygun bir \"line\" bulabilmektir.\n",
    "\n",
    "Datasetteki value'lara bir line fit etmektir. Buna \"Fit a line to dataset observation\"'dur. Biz bu line'i istediğimiz bir değeri predict yani tahmin etmek için kullanırız. Bu methoda \"Line Fit\" ya da \"Linear Regression\" methodu denir. "
   ]
  },
  {
   "cell_type": "markdown",
   "id": "ef79973f",
   "metadata": {},
   "source": [
    "#### Linear Regression\n",
    "\n",
    "\n",
    "y= b0+ b1*x\n",
    "\n",
    "\n",
    "b0===> constant/ bias\n",
    "\n",
    "b1===> coefficient\n",
    "\n",
    "\n",
    "\n",
    "b0 y eksenini kestiği noktadır. B1 ise oluşturacağımız line'in eğimidir. \n",
    "\n",
    "\n",
    "salary= b0+ b1*experience"
   ]
  },
  {
   "cell_type": "markdown",
   "id": "5c1f1584",
   "metadata": {},
   "source": [
    "Grafiğe göre\n",
    "12500= 2500+1000*10   B0= 2500 B1=1000\n",
    "\n",
    "experience= 11   salary=?\n",
    "\n",
    "salary= b0+ b1*x ====> 2500+1000*11== 13500"
   ]
  },
  {
   "cell_type": "markdown",
   "id": "f3764f01",
   "metadata": {},
   "source": [
    "Elimizde bir line var ve biz bu line'i fit edeceğiz. Elimizdeki tüm noktalara en yakın halinde geçmeli. Bu değeri bulabilmek yani değerlere en yakın line'ı çizebilmek için:\n",
    "\n",
    "\n",
    "residual==> y-y_head\n",
    "\n",
    "Y bizim gerçek değerimiz. y_head ise predict ettiğimiz değer. Yani aradaki fark  aslında bu line'ın maliyetidir. Residual'idir. "
   ]
  },
  {
   "cell_type": "markdown",
   "id": "c2f2a6cf",
   "metadata": {},
   "source": [
    "Çizdiğimiz line ile gerçek değerlerin arasındaki fark benim hesaplamak istediğim asıl değer ve aslında bir mesafe hesapladığımızı unutmayalım. Yani çıkan negatif değerlerin Residual değerimi yanıltmasını istemediğimiz için Residual değerinin karesi alınır. Error değerlerimizi kaybetmek bizim problemimizi iyi etkilemez. Ardından tüm residual değerlerini toplarız. \n",
    "\n",
    "sum((Res)^2)/n\n",
    "\n",
    "\n",
    "n değeri burada bizim sample sayısıdır. Yani elimizde kaç tane örnek value var ise o sayıya bölüp hesaplanan erroru ölçeklendiririz.\n",
    "\n",
    "\n",
    "MSE=sum((Res)^2)/n\n",
    "\n",
    "Bu hesaplamaya Mean Square Error deniyor. Line'mizin performansını ölçmek için kullanırız. Bizim amacımız en minimum MSE'yi bulmaktır. \n",
    "\n",
    "\n",
    "###### Amaçlarımız:\n",
    "\n",
    "1. Modelimize en uygun line'ı bulabilmektir. (B0 ve B1 optimizasyonu)\n",
    "\n",
    "2. Ardından MSE' yi hesaplamak.\n",
    "\n",
    "3. MSE'yi minimum'a indirmektir. \n",
    "\n",
    "\n",
    "\n"
   ]
  },
  {
   "cell_type": "markdown",
   "id": "64d8a6cb",
   "metadata": {},
   "source": [
    "# Linear Regresyon With Python"
   ]
  },
  {
   "cell_type": "code",
   "execution_count": 9,
   "id": "39cf5869",
   "metadata": {},
   "outputs": [],
   "source": [
    "# import data\n",
    "import pandas as pd\n",
    "import matplotlib.pyplot as plt"
   ]
  },
  {
   "cell_type": "code",
   "execution_count": 10,
   "id": "ba17a77f",
   "metadata": {},
   "outputs": [],
   "source": [
    "df= pd.read_csv(\"verisetix.csv\", sep=\";\")"
   ]
  },
  {
   "cell_type": "code",
   "execution_count": 11,
   "id": "6b2c568a",
   "metadata": {},
   "outputs": [
    {
     "data": {
      "text/html": [
       "<div>\n",
       "<style scoped>\n",
       "    .dataframe tbody tr th:only-of-type {\n",
       "        vertical-align: middle;\n",
       "    }\n",
       "\n",
       "    .dataframe tbody tr th {\n",
       "        vertical-align: top;\n",
       "    }\n",
       "\n",
       "    .dataframe thead th {\n",
       "        text-align: right;\n",
       "    }\n",
       "</style>\n",
       "<table border=\"1\" class=\"dataframe\">\n",
       "  <thead>\n",
       "    <tr style=\"text-align: right;\">\n",
       "      <th></th>\n",
       "      <th>experience</th>\n",
       "      <th>salary</th>\n",
       "    </tr>\n",
       "  </thead>\n",
       "  <tbody>\n",
       "    <tr>\n",
       "      <th>0</th>\n",
       "      <td>0.5</td>\n",
       "      <td>2500</td>\n",
       "    </tr>\n",
       "    <tr>\n",
       "      <th>1</th>\n",
       "      <td>0.0</td>\n",
       "      <td>2250</td>\n",
       "    </tr>\n",
       "    <tr>\n",
       "      <th>2</th>\n",
       "      <td>1.0</td>\n",
       "      <td>2750</td>\n",
       "    </tr>\n",
       "    <tr>\n",
       "      <th>3</th>\n",
       "      <td>5.0</td>\n",
       "      <td>8000</td>\n",
       "    </tr>\n",
       "    <tr>\n",
       "      <th>4</th>\n",
       "      <td>8.0</td>\n",
       "      <td>9000</td>\n",
       "    </tr>\n",
       "    <tr>\n",
       "      <th>5</th>\n",
       "      <td>4.0</td>\n",
       "      <td>6900</td>\n",
       "    </tr>\n",
       "    <tr>\n",
       "      <th>6</th>\n",
       "      <td>15.0</td>\n",
       "      <td>20000</td>\n",
       "    </tr>\n",
       "    <tr>\n",
       "      <th>7</th>\n",
       "      <td>7.0</td>\n",
       "      <td>8500</td>\n",
       "    </tr>\n",
       "    <tr>\n",
       "      <th>8</th>\n",
       "      <td>3.0</td>\n",
       "      <td>6000</td>\n",
       "    </tr>\n",
       "    <tr>\n",
       "      <th>9</th>\n",
       "      <td>2.0</td>\n",
       "      <td>3500</td>\n",
       "    </tr>\n",
       "    <tr>\n",
       "      <th>10</th>\n",
       "      <td>12.0</td>\n",
       "      <td>15000</td>\n",
       "    </tr>\n",
       "    <tr>\n",
       "      <th>11</th>\n",
       "      <td>10.0</td>\n",
       "      <td>13000</td>\n",
       "    </tr>\n",
       "    <tr>\n",
       "      <th>12</th>\n",
       "      <td>14.0</td>\n",
       "      <td>18000</td>\n",
       "    </tr>\n",
       "    <tr>\n",
       "      <th>13</th>\n",
       "      <td>6.0</td>\n",
       "      <td>7500</td>\n",
       "    </tr>\n",
       "  </tbody>\n",
       "</table>\n",
       "</div>"
      ],
      "text/plain": [
       "    experience  salary\n",
       "0          0.5    2500\n",
       "1          0.0    2250\n",
       "2          1.0    2750\n",
       "3          5.0    8000\n",
       "4          8.0    9000\n",
       "5          4.0    6900\n",
       "6         15.0   20000\n",
       "7          7.0    8500\n",
       "8          3.0    6000\n",
       "9          2.0    3500\n",
       "10        12.0   15000\n",
       "11        10.0   13000\n",
       "12        14.0   18000\n",
       "13         6.0    7500"
      ]
     },
     "execution_count": 11,
     "metadata": {},
     "output_type": "execute_result"
    }
   ],
   "source": [
    "df"
   ]
  },
  {
   "cell_type": "code",
   "execution_count": 14,
   "id": "e170793e",
   "metadata": {},
   "outputs": [
    {
     "data": {
      "image/png": "[encoded data removed]",
      "text/plain": [
       "<Figure size 640x480 with 1 Axes>"
      ]
     },
     "metadata": {},
     "output_type": "display_data"
    }
   ],
   "source": [
    "#plot data\n",
    "plt.scatter(df.experience, df.salary)\n",
    "plt.xlabel(\"Experience (Year)\")\n",
    "plt.ylabel(\"Salary(TL)\")\n",
    "plt.show()"
   ]
  },
  {
   "cell_type": "markdown",
   "id": "5d9c61d8",
   "metadata": {},
   "source": [
    "Makine öğrenmesi algoritmalarının içinde bulunduğu kütüphane sklearn kütüphanesidir. "
   ]
  },
  {
   "cell_type": "code",
   "execution_count": 15,
   "id": "940ff6f6",
   "metadata": {},
   "outputs": [],
   "source": [
    "#Linear Regression\n",
    "\n",
    "#Sklearn Library\n",
    "from sklearn.linear_model import LinearRegression\n",
    "\n",
    "\n",
    "#Linear Regression Model\n",
    "linear_reg= LinearRegression()\n"
   ]
  },
  {
   "cell_type": "code",
   "execution_count": 16,
   "id": "c6e67fc3",
   "metadata": {},
   "outputs": [],
   "source": [
    "x= df.experience\n",
    "y=df.salary"
   ]
  },
  {
   "cell_type": "code",
   "execution_count": 17,
   "id": "a9659ea5",
   "metadata": {},
   "outputs": [
    {
     "data": {
      "text/plain": [
       "pandas.core.series.Series"
      ]
     },
     "execution_count": 17,
     "metadata": {},
     "output_type": "execute_result"
    }
   ],
   "source": [
    "type(x)"
   ]
  },
  {
   "cell_type": "markdown",
   "id": "766bd94d",
   "metadata": {},
   "source": [
    "X ve Y nin Type'ı Series'dir. Fakat biz bu her iki ekseni numpy'a çevirelim. Çeviremek için .values opsiyonunu kullanırız."
   ]
  },
  {
   "cell_type": "code",
   "execution_count": 18,
   "id": "8051005a",
   "metadata": {},
   "outputs": [],
   "source": [
    "x= df.experience.values\n",
    "y=df.salary.values"
   ]
  },
  {
   "cell_type": "code",
   "execution_count": 19,
   "id": "9093f976",
   "metadata": {},
   "outputs": [
    {
     "data": {
      "text/plain": [
       "(14,)"
      ]
     },
     "execution_count": 19,
     "metadata": {},
     "output_type": "execute_result"
    }
   ],
   "source": [
    "x.shape"
   ]
  },
  {
   "cell_type": "code",
   "execution_count": 20,
   "id": "1dd16e37",
   "metadata": {},
   "outputs": [
    {
     "data": {
      "text/plain": [
       "(14,)"
      ]
     },
     "execution_count": 20,
     "metadata": {},
     "output_type": "execute_result"
    }
   ],
   "source": [
    "y.shape"
   ]
  },
  {
   "cell_type": "markdown",
   "id": "ca731ebb",
   "metadata": {},
   "source": [
    "Aslen (14,) (14,1) anlamına gelmektedir. Fakat Sklearn kütüphanesini kullanırken 1 boyutunun da temsili olmalıdır. "
   ]
  },
  {
   "cell_type": "code",
   "execution_count": 23,
   "id": "c4d8034c",
   "metadata": {},
   "outputs": [],
   "source": [
    "x= df.experience.values.reshape(-1,1)\n",
    "y=df.salary.values.reshape(-1,1)"
   ]
  },
  {
   "cell_type": "code",
   "execution_count": 24,
   "id": "f74cf2af",
   "metadata": {},
   "outputs": [
    {
     "data": {
      "text/plain": [
       "(14, 1)"
      ]
     },
     "execution_count": 24,
     "metadata": {},
     "output_type": "execute_result"
    }
   ],
   "source": [
    "x.shape"
   ]
  },
  {
   "cell_type": "code",
   "execution_count": 25,
   "id": "a4653f56",
   "metadata": {},
   "outputs": [
    {
     "data": {
      "text/plain": [
       "(14, 1)"
      ]
     },
     "execution_count": 25,
     "metadata": {},
     "output_type": "execute_result"
    }
   ],
   "source": [
    "y.shape"
   ]
  },
  {
   "cell_type": "markdown",
   "id": "402d57bb",
   "metadata": {},
   "source": [
    "###### Line Fit\n",
    "\n",
    "Bizim Line'miz values'larımıza fit edildi."
   ]
  },
  {
   "cell_type": "code",
   "execution_count": 27,
   "id": "b368b445",
   "metadata": {},
   "outputs": [
    {
     "data": {
      "text/html": [
       "<style>#sk-container-id-1 {color: black;background-color: white;}#sk-container-id-1 pre{padding: 0;}#sk-container-id-1 div.sk-toggleable {background-color: white;}#sk-container-id-1 label.sk-toggleable__label {cursor: pointer;display: block;width: 100%;margin-bottom: 0;padding: 0.3em;box-sizing: border-box;text-align: center;}#sk-container-id-1 label.sk-toggleable__label-arrow:before {content: \"▸\";float: left;margin-right: 0.25em;color: #696969;}#sk-container-id-1 label.sk-toggleable__label-arrow:hover:before {color: black;}#sk-container-id-1 div.sk-estimator:hover label.sk-toggleable__label-arrow:before {color: black;}#sk-container-id-1 div.sk-toggleable__content {max-height: 0;max-width: 0;overflow: hidden;text-align: left;background-color: #f0f8ff;}#sk-container-id-1 div.sk-toggleable__content pre {margin: 0.2em;color: black;border-radius: 0.25em;background-color: #f0f8ff;}#sk-container-id-1 input.sk-toggleable__control:checked~div.sk-toggleable__content {max-height: 200px;max-width: 100%;overflow: auto;}#sk-container-id-1 input.sk-toggleable__control:checked~label.sk-toggleable__label-arrow:before {content: \"▾\";}#sk-container-id-1 div.sk-estimator input.sk-toggleable__control:checked~label.sk-toggleable__label {background-color: #d4ebff;}#sk-container-id-1 div.sk-label input.sk-toggleable__control:checked~label.sk-toggleable__label {background-color: #d4ebff;}#sk-container-id-1 input.sk-hidden--visually {border: 0;clip: rect(1px 1px 1px 1px);clip: rect(1px, 1px, 1px, 1px);height: 1px;margin: -1px;overflow: hidden;padding: 0;position: absolute;width: 1px;}#sk-container-id-1 div.sk-estimator {font-family: monospace;background-color: #f0f8ff;border: 1px dotted black;border-radius: 0.25em;box-sizing: border-box;margin-bottom: 0.5em;}#sk-container-id-1 div.sk-estimator:hover {background-color: #d4ebff;}#sk-container-id-1 div.sk-parallel-item::after {content: \"\";width: 100%;border-bottom: 1px solid gray;flex-grow: 1;}#sk-container-id-1 div.sk-label:hover label.sk-toggleable__label {background-color: #d4ebff;}#sk-container-id-1 div.sk-serial::before {content: \"\";position: absolute;border-left: 1px solid gray;box-sizing: border-box;top: 0;bottom: 0;left: 50%;z-index: 0;}#sk-container-id-1 div.sk-serial {display: flex;flex-direction: column;align-items: center;background-color: white;padding-right: 0.2em;padding-left: 0.2em;position: relative;}#sk-container-id-1 div.sk-item {position: relative;z-index: 1;}#sk-container-id-1 div.sk-parallel {display: flex;align-items: stretch;justify-content: center;background-color: white;position: relative;}#sk-container-id-1 div.sk-item::before, #sk-container-id-1 div.sk-parallel-item::before {content: \"\";position: absolute;border-left: 1px solid gray;box-sizing: border-box;top: 0;bottom: 0;left: 50%;z-index: -1;}#sk-container-id-1 div.sk-parallel-item {display: flex;flex-direction: column;z-index: 1;position: relative;background-color: white;}#sk-container-id-1 div.sk-parallel-item:first-child::after {align-self: flex-end;width: 50%;}#sk-container-id-1 div.sk-parallel-item:last-child::after {align-self: flex-start;width: 50%;}#sk-container-id-1 div.sk-parallel-item:only-child::after {width: 0;}#sk-container-id-1 div.sk-dashed-wrapped {border: 1px dashed gray;margin: 0 0.4em 0.5em 0.4em;box-sizing: border-box;padding-bottom: 0.4em;background-color: white;}#sk-container-id-1 div.sk-label label {font-family: monospace;font-weight: bold;display: inline-block;line-height: 1.2em;}#sk-container-id-1 div.sk-label-container {text-align: center;}#sk-container-id-1 div.sk-container {/* jupyter's `normalize.less` sets `[hidden] { display: none; }` but bootstrap.min.css set `[hidden] { display: none !important; }` so we also need the `!important` here to be able to override the default hidden behavior on the sphinx rendered scikit-learn.org. See: https://github.com/scikit-learn/scikit-learn/issues/21755 */display: inline-block !important;position: relative;}#sk-container-id-1 div.sk-text-repr-fallback {display: none;}</style><div id=\"sk-container-id-1\" class=\"sk-top-container\"><div class=\"sk-text-repr-fallback\"><pre>LinearRegression()</pre><b>In a Jupyter environment, please rerun this cell to show the HTML representation or trust the notebook. <br />On GitHub, the HTML representation is unable to render, please try loading this page with nbviewer.org.</b></div><div class=\"sk-container\" hidden><div class=\"sk-item\"><div class=\"sk-estimator sk-toggleable\"><input class=\"sk-toggleable__control sk-hidden--visually\" id=\"sk-estimator-id-1\" type=\"checkbox\" checked><label for=\"sk-estimator-id-1\" class=\"sk-toggleable__label sk-toggleable__label-arrow\">LinearRegression</label><div class=\"sk-toggleable__content\"><pre>LinearRegression()</pre></div></div></div></div></div>"
      ],
      "text/plain": [
       "LinearRegression()"
      ]
     },
     "execution_count": 27,
     "metadata": {},
     "output_type": "execute_result"
    }
   ],
   "source": [
    "linear_reg.fit(x,y)"
   ]
  },
  {
   "cell_type": "markdown",
   "id": "d45de017",
   "metadata": {},
   "source": [
    "Eğer B0 değerini görmek istersek: bunun iki yöntemi vardır bir x değerine 0 değerini vermek bir diğeri ise intercept (Kesişim) methodunu kullanabiliriz."
   ]
  },
  {
   "cell_type": "code",
   "execution_count": 28,
   "id": "a2eac3ab",
   "metadata": {},
   "outputs": [],
   "source": [
    "b0= linear_reg.predict([[0]])"
   ]
  },
  {
   "cell_type": "code",
   "execution_count": 30,
   "id": "e86ec566",
   "metadata": {},
   "outputs": [
    {
     "name": "stdout",
     "output_type": "stream",
     "text": [
      "B0 değeri:  [[1663.89519747]]\n"
     ]
    }
   ],
   "source": [
    "print(\"B0 değeri: \",b0)"
   ]
  },
  {
   "cell_type": "code",
   "execution_count": 32,
   "id": "b1b8d528",
   "metadata": {},
   "outputs": [],
   "source": [
    "b0_ = linear_reg.intercept_ #intercept"
   ]
  },
  {
   "cell_type": "code",
   "execution_count": 34,
   "id": "2b71502f",
   "metadata": {},
   "outputs": [
    {
     "name": "stdout",
     "output_type": "stream",
     "text": [
      "B0 değeri:  [1663.89519747]\n"
     ]
    }
   ],
   "source": [
    "print(\"B0 değeri: \", b0_)"
   ]
  },
  {
   "cell_type": "markdown",
   "id": "d205ec0e",
   "metadata": {},
   "source": [
    "B1 değerini bulmak istersek bilindiği üzere b1 x' in katsayısıydı. Coeff methodu ile b1 değerini görmek mümkündür."
   ]
  },
  {
   "cell_type": "code",
   "execution_count": 35,
   "id": "037098b2",
   "metadata": {},
   "outputs": [],
   "source": [
    "b1= linear_reg.coef_ #slope"
   ]
  },
  {
   "cell_type": "code",
   "execution_count": 37,
   "id": "93ba54ee",
   "metadata": {},
   "outputs": [
    {
     "name": "stdout",
     "output_type": "stream",
     "text": [
      "B1 değeri:  [[1138.34819698]]\n"
     ]
    }
   ],
   "source": [
    "print(\"B1 değeri: \",b1)"
   ]
  },
  {
   "cell_type": "markdown",
   "id": "b537bcc9",
   "metadata": {},
   "source": [
    "#### Predict"
   ]
  },
  {
   "cell_type": "markdown",
   "id": "c94fb48c",
   "metadata": {},
   "source": [
    "İstediğimiz herhangi bir değeri artık predict yapabilmeye başladık."
   ]
  },
  {
   "cell_type": "code",
   "execution_count": 39,
   "id": "c5c9ebb8",
   "metadata": {},
   "outputs": [],
   "source": [
    "#Experience ==> 11\n",
    "salary_new= 1663+1138*11"
   ]
  },
  {
   "cell_type": "code",
   "execution_count": 40,
   "id": "813fee3d",
   "metadata": {},
   "outputs": [
    {
     "data": {
      "text/plain": [
       "14181"
      ]
     },
     "execution_count": 40,
     "metadata": {},
     "output_type": "execute_result"
    }
   ],
   "source": [
    "salary_new"
   ]
  },
  {
   "cell_type": "code",
   "execution_count": 48,
   "id": "17cf2a56",
   "metadata": {},
   "outputs": [
    {
     "name": "stdout",
     "output_type": "stream",
     "text": [
      "[[14185.72536421]]\n"
     ]
    }
   ],
   "source": [
    "##Predict methodu ile\n",
    "print(linear_reg.predict([[11]]))\n"
   ]
  },
  {
   "cell_type": "markdown",
   "id": "7d5042ad",
   "metadata": {},
   "source": [
    "#### Görselleştirme"
   ]
  },
  {
   "cell_type": "code",
   "execution_count": 50,
   "id": "e412ea32",
   "metadata": {},
   "outputs": [],
   "source": [
    "import numpy as np"
   ]
  },
  {
   "cell_type": "code",
   "execution_count": 57,
   "id": "7508db65",
   "metadata": {},
   "outputs": [],
   "source": [
    "array= np.array([0,1,2,3,4,5,6,7,8,9,10,11,12,13,14,15]).reshape(-1,1)"
   ]
  },
  {
   "cell_type": "code",
   "execution_count": 54,
   "id": "3225f5b5",
   "metadata": {},
   "outputs": [
    {
     "data": {
      "text/plain": [
       "<matplotlib.collections.PathCollection at 0x1c9562213f0>"
      ]
     },
     "execution_count": 54,
     "metadata": {},
     "output_type": "execute_result"
    },
    {
     "data": {
      "image/png": "[encoded data removed]",
      "text/plain": [
       "<Figure size 640x480 with 1 Axes>"
      ]
     },
     "metadata": {},
     "output_type": "display_data"
    }
   ],
   "source": [
    "plt.scatter(x,y)"
   ]
  },
  {
   "cell_type": "code",
   "execution_count": 58,
   "id": "fea08e0d",
   "metadata": {},
   "outputs": [
    {
     "data": {
      "text/plain": [
       "(16, 1)"
      ]
     },
     "execution_count": 58,
     "metadata": {},
     "output_type": "execute_result"
    }
   ],
   "source": [
    "array.shape"
   ]
  },
  {
   "cell_type": "code",
   "execution_count": 61,
   "id": "9d82600b",
   "metadata": {},
   "outputs": [
    {
     "data": {
      "text/plain": [
       "[<matplotlib.lines.Line2D at 0x1c95635a9e0>]"
      ]
     },
     "execution_count": 61,
     "metadata": {},
     "output_type": "execute_result"
    },
    {
     "data": {
      "image/png": "[encoded data removed]",
      "text/plain": [
       "<Figure size 640x480 with 1 Axes>"
      ]
     },
     "metadata": {},
     "output_type": "display_data"
    }
   ],
   "source": [
    "y_head=linear_reg.predict(array)\n",
    "plt.plot(array, y_head)\n"
   ]
  },
  {
   "cell_type": "code",
   "execution_count": null,
   "id": "d5a471ef",
   "metadata": {},
   "outputs": [],
   "source": []
  }
 ],
 "metadata": {
  "kernelspec": {
   "display_name": "Python 3 (ipykernel)",
   "language": "python",
   "name": "python3"
  },
  "language_info": {
   "codemirror_mode": {
    "name": "ipython",
    "version": 3
   },
   "file_extension": ".py",
   "mimetype": "text/x-python",
   "name": "python",
   "nbconvert_exporter": "python",
   "pygments_lexer": "ipython3",
   "version": "3.10.9"
  }
 },
 "nbformat": 4,
 "nbformat_minor": 5
}

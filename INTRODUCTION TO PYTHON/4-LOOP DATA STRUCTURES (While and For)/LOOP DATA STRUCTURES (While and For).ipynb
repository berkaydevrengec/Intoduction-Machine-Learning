{
 "cells": [
  {
   "cell_type": "markdown",
   "id": "00fd816c",
   "metadata": {},
   "source": [
    "# LOOP DATA STRUCTURES (While and For)"
   ]
  },
  {
   "cell_type": "code",
   "execution_count": 14,
   "id": "a29e5464",
   "metadata": {},
   "outputs": [],
   "source": [
    "import pandas as pd\n",
    "import numpy as np\n",
    "import matplotlib.pyplot as plt\n",
    "import seaborn as sns"
   ]
  },
  {
   "cell_type": "code",
   "execution_count": 15,
   "id": "89170f3f",
   "metadata": {},
   "outputs": [
    {
     "name": "stdout",
     "output_type": "stream",
     "text": [
      "i is 0\n",
      "i is 1\n",
      "i is 2\n",
      "i is 3\n",
      "i is 4\n",
      "5 is equal to 5\n"
     ]
    }
   ],
   "source": [
    "i=0\n",
    "while( i != 5):\n",
    "    print('i is' ,i)\n",
    "    i+=1\n",
    "    \n",
    "print(i ,'is equal to 5')\n"
   ]
  },
  {
   "cell_type": "code",
   "execution_count": 16,
   "id": "b463140a",
   "metadata": {},
   "outputs": [
    {
     "name": "stdout",
     "output_type": "stream",
     "text": [
      "i is 1\n",
      " \n",
      "i is 2\n",
      " \n",
      "i is 3\n",
      " \n",
      "i is 4\n",
      " \n",
      "i is 5\n",
      " \n"
     ]
    }
   ],
   "source": [
    "lis = [1,2,3,4,5]\n",
    "for i in lis:\n",
    "    print('i is',i)\n",
    "    print(' ')"
   ]
  },
  {
   "cell_type": "code",
   "execution_count": 17,
   "id": "ea36514d",
   "metadata": {},
   "outputs": [
    {
     "name": "stdout",
     "output_type": "stream",
     "text": [
      "0  :  1\n",
      " \n",
      "1  :  2\n",
      " \n",
      "2  :  3\n",
      " \n",
      "3  :  4\n",
      " \n",
      "4  :  5\n",
      " \n"
     ]
    }
   ],
   "source": [
    "#Enumerate index and value of list\n",
    "#index: value 0:1, 1:2, 2:3, 3:4, 4:5\n",
    "\n",
    "for index, value in enumerate(lis):\n",
    "    print(index, \" : \", value)\n",
    "    print(' ')"
   ]
  },
  {
   "cell_type": "code",
   "execution_count": 18,
   "id": "46357b15",
   "metadata": {},
   "outputs": [
    {
     "name": "stdout",
     "output_type": "stream",
     "text": [
      "spain  :  madrid\n",
      "\n",
      "france  :  paris\n",
      "\n"
     ]
    }
   ],
   "source": [
    "#for dictionaries\n",
    "#We can use for loop to achive key and value of dictionary. We learnt key and value at dictionary part\n",
    "\n",
    "dictionary={'spain':'madrid', 'france': 'paris'}\n",
    "for key, value in dictionary.items():\n",
    "    print(key, \" : \", value)\n",
    "    print('')"
   ]
  },
  {
   "cell_type": "code",
   "execution_count": 20,
   "id": "fb460b9f",
   "metadata": {},
   "outputs": [],
   "source": [
    "data=pd.read_csv('pokemon.csv')"
   ]
  },
  {
   "cell_type": "code",
   "execution_count": 21,
   "id": "3a6ecfbd",
   "metadata": {},
   "outputs": [
    {
     "name": "stdout",
     "output_type": "stream",
     "text": [
      "0 :   Attack    49\n",
      "Name: 0, dtype: int64\n"
     ]
    }
   ],
   "source": [
    "# For pandas we can achieve index and value\n",
    "for index, value in data[['Attack']][0:1].iterrows():\n",
    "    print(index, \":  \",value)"
   ]
  },
  {
   "cell_type": "markdown",
   "id": "95c83f0f",
   "metadata": {},
   "source": [
    "In this part, you learn:\n",
    "\n",
    "how to import csv file\n",
    "\n",
    "plotting line, scatter and histogram\n",
    "\n",
    "basic dictionary featrues\n",
    "\n",
    "basic pandas features like filtering that is actually something always used and main for being data scientist\n",
    "\n",
    "While and for loops"
   ]
  },
  {
   "cell_type": "code",
   "execution_count": null,
   "id": "40c2d31a",
   "metadata": {},
   "outputs": [],
   "source": []
  }
 ],
 "metadata": {
  "kernelspec": {
   "display_name": "Python 3 (ipykernel)",
   "language": "python",
   "name": "python3"
  },
  "language_info": {
   "codemirror_mode": {
    "name": "ipython",
    "version": 3
   },
   "file_extension": ".py",
   "mimetype": "text/x-python",
   "name": "python",
   "nbconvert_exporter": "python",
   "pygments_lexer": "ipython3",
   "version": "3.10.9"
  }
 },
 "nbformat": 4,
 "nbformat_minor": 5
}

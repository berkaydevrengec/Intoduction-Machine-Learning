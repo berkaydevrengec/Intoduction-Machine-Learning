{
 "cells": [
  {
   "cell_type": "markdown",
   "id": "e774f961",
   "metadata": {},
   "source": [
    "# Multiple Linear Regression"
   ]
  },
  {
   "cell_type": "code",
   "execution_count": 3,
   "id": "b3a7a46e",
   "metadata": {},
   "outputs": [],
   "source": [
    "import pandas as pd\n",
    "import numpy as np\n",
    "import matplotlib.pyplot as plt"
   ]
  },
  {
   "cell_type": "markdown",
   "id": "50b77165",
   "metadata": {},
   "source": [
    "Multiple Linear Regresyon y ekseninin tahmin edilmesinde x'in sadece tek bir feature olmayışıdır. Biden fazla özelliğin filtrelenmesiyle bir y_head değeri bir predict değeri elde edilmesidir."
   ]
  },
  {
   "cell_type": "markdown",
   "id": "e0a0195f",
   "metadata": {},
   "source": [
    "Artık formülümüz değişti ve ifadesi şu şekildedir.\n",
    "\n",
    "multiple LR= y= b0+b1*x1 + b2*x2\n",
    "\n",
    "\n",
    "salary = b0+ b1*experience + b2*age  ======> Line\n",
    "\n",
    "salary===> dependent variable\n",
    "\n",
    "experience, yas ====> independent variable"
   ]
  },
  {
   "cell_type": "markdown",
   "id": "0920a556",
   "metadata": {},
   "source": [
    "b0  b1 ve b2 değerlerini nasıl bulacağız?\n",
    "\n",
    "Yine tıpkı linear regression'da yaptığımız gibi MEAN SQUARE ERROR (MSE) kullanacağız. MSE'yi minimumda tutacağız."
   ]
  },
  {
   "cell_type": "markdown",
   "id": "3143630b",
   "metadata": {},
   "source": [
    "residual = y-y_head\n",
    "\n",
    "n= sample sayısı\n",
    "\n",
    "MSE= (RES)^2/n"
   ]
  },
  {
   "cell_type": "markdown",
   "id": "b96ed992",
   "metadata": {},
   "source": [
    "# Multiple Linear Regression with Python"
   ]
  },
  {
   "cell_type": "code",
   "execution_count": 5,
   "id": "c3cc26fb",
   "metadata": {},
   "outputs": [],
   "source": [
    "import pandas as pd\n",
    "import numpy as np\n",
    "import matplotlib.pyplot as plt"
   ]
  },
  {
   "cell_type": "code",
   "execution_count": 6,
   "id": "892bd17f",
   "metadata": {},
   "outputs": [],
   "source": [
    "#import linear Resgression class\n",
    "from sklearn.linear_model import LinearRegression"
   ]
  },
  {
   "cell_type": "code",
   "execution_count": 9,
   "id": "92f94cdc",
   "metadata": {},
   "outputs": [],
   "source": [
    "df= pd.read_csv(\"verisetix.csv\", sep=\";\")"
   ]
  },
  {
   "cell_type": "code",
   "execution_count": 10,
   "id": "95e7a306",
   "metadata": {},
   "outputs": [
    {
     "data": {
      "text/html": [
       "<div>\n",
       "<style scoped>\n",
       "    .dataframe tbody tr th:only-of-type {\n",
       "        vertical-align: middle;\n",
       "    }\n",
       "\n",
       "    .dataframe tbody tr th {\n",
       "        vertical-align: top;\n",
       "    }\n",
       "\n",
       "    .dataframe thead th {\n",
       "        text-align: right;\n",
       "    }\n",
       "</style>\n",
       "<table border=\"1\" class=\"dataframe\">\n",
       "  <thead>\n",
       "    <tr style=\"text-align: right;\">\n",
       "      <th></th>\n",
       "      <th>experience</th>\n",
       "      <th>salary</th>\n",
       "      <th>age</th>\n",
       "    </tr>\n",
       "  </thead>\n",
       "  <tbody>\n",
       "    <tr>\n",
       "      <th>0</th>\n",
       "      <td>0.5</td>\n",
       "      <td>2500</td>\n",
       "      <td>22</td>\n",
       "    </tr>\n",
       "    <tr>\n",
       "      <th>1</th>\n",
       "      <td>0.0</td>\n",
       "      <td>2250</td>\n",
       "      <td>21</td>\n",
       "    </tr>\n",
       "    <tr>\n",
       "      <th>2</th>\n",
       "      <td>1.0</td>\n",
       "      <td>2750</td>\n",
       "      <td>23</td>\n",
       "    </tr>\n",
       "    <tr>\n",
       "      <th>3</th>\n",
       "      <td>5.0</td>\n",
       "      <td>8000</td>\n",
       "      <td>25</td>\n",
       "    </tr>\n",
       "    <tr>\n",
       "      <th>4</th>\n",
       "      <td>8.0</td>\n",
       "      <td>9000</td>\n",
       "      <td>28</td>\n",
       "    </tr>\n",
       "    <tr>\n",
       "      <th>5</th>\n",
       "      <td>4.0</td>\n",
       "      <td>6900</td>\n",
       "      <td>23</td>\n",
       "    </tr>\n",
       "    <tr>\n",
       "      <th>6</th>\n",
       "      <td>15.0</td>\n",
       "      <td>20000</td>\n",
       "      <td>35</td>\n",
       "    </tr>\n",
       "    <tr>\n",
       "      <th>7</th>\n",
       "      <td>7.0</td>\n",
       "      <td>8500</td>\n",
       "      <td>29</td>\n",
       "    </tr>\n",
       "    <tr>\n",
       "      <th>8</th>\n",
       "      <td>3.0</td>\n",
       "      <td>6000</td>\n",
       "      <td>22</td>\n",
       "    </tr>\n",
       "    <tr>\n",
       "      <th>9</th>\n",
       "      <td>2.0</td>\n",
       "      <td>3500</td>\n",
       "      <td>23</td>\n",
       "    </tr>\n",
       "    <tr>\n",
       "      <th>10</th>\n",
       "      <td>12.0</td>\n",
       "      <td>15000</td>\n",
       "      <td>32</td>\n",
       "    </tr>\n",
       "    <tr>\n",
       "      <th>11</th>\n",
       "      <td>10.0</td>\n",
       "      <td>13000</td>\n",
       "      <td>30</td>\n",
       "    </tr>\n",
       "    <tr>\n",
       "      <th>12</th>\n",
       "      <td>14.0</td>\n",
       "      <td>18000</td>\n",
       "      <td>34</td>\n",
       "    </tr>\n",
       "    <tr>\n",
       "      <th>13</th>\n",
       "      <td>6.0</td>\n",
       "      <td>7500</td>\n",
       "      <td>27</td>\n",
       "    </tr>\n",
       "  </tbody>\n",
       "</table>\n",
       "</div>"
      ],
      "text/plain": [
       "    experience  salary  age\n",
       "0          0.5    2500   22\n",
       "1          0.0    2250   21\n",
       "2          1.0    2750   23\n",
       "3          5.0    8000   25\n",
       "4          8.0    9000   28\n",
       "5          4.0    6900   23\n",
       "6         15.0   20000   35\n",
       "7          7.0    8500   29\n",
       "8          3.0    6000   22\n",
       "9          2.0    3500   23\n",
       "10        12.0   15000   32\n",
       "11        10.0   13000   30\n",
       "12        14.0   18000   34\n",
       "13         6.0    7500   27"
      ]
     },
     "execution_count": 10,
     "metadata": {},
     "output_type": "execute_result"
    }
   ],
   "source": [
    "df"
   ]
  },
  {
   "cell_type": "markdown",
   "id": "01bc92c5",
   "metadata": {},
   "source": [
    "Daha önceden belirttiğimiz gibi experience, salary ve age tek başlarına Series veritipindedir. Sklearn' da çalışırken bu sütunları birer array'e çevireceğiz. Ayrıca boyutlar (14,) şeklinde olmamalıdır. (14,1) şeklinde olmalıdır. Sklearn bu şekilde kabul eder ve çalışır. Şimdi bizim y sütunumuz maaş sütunu olacak yani salary, x sütunumuz ise experience ve age yani deneyim ve yaş olacak. Aynen bahsedildiği gibi x ve y' ye atama yapıp ardından reshape methodu ile (-1,1) şeklinde düzenliyoruz."
   ]
  },
  {
   "cell_type": "code",
   "execution_count": 13,
   "id": "ca5176da",
   "metadata": {},
   "outputs": [],
   "source": [
    "x= df.iloc[:,[0,2]].values\n",
    "y= df.salary.values.reshape(-1,1)"
   ]
  },
  {
   "cell_type": "code",
   "execution_count": 14,
   "id": "35775af8",
   "metadata": {},
   "outputs": [
    {
     "data": {
      "text/plain": [
       "(14, 2)"
      ]
     },
     "execution_count": 14,
     "metadata": {},
     "output_type": "execute_result"
    }
   ],
   "source": [
    "x.shape"
   ]
  },
  {
   "cell_type": "code",
   "execution_count": 15,
   "id": "0b9296c0",
   "metadata": {},
   "outputs": [
    {
     "data": {
      "text/plain": [
       "(14, 1)"
      ]
     },
     "execution_count": 15,
     "metadata": {},
     "output_type": "execute_result"
    }
   ],
   "source": [
    "y.shape"
   ]
  },
  {
   "cell_type": "markdown",
   "id": "19c056b2",
   "metadata": {},
   "source": [
    "Linear Regression sınıfından bir multiple_linear_regression objesi oluşturduk ve oluşturulan bu nesneyi x ve y değerleriyle fit ettik. Modelimizin elimizdelki verilerden öğrenmesini sağladık."
   ]
  },
  {
   "cell_type": "code",
   "execution_count": 20,
   "id": "5489f624",
   "metadata": {},
   "outputs": [
    {
     "data": {
      "text/html": [
       "<style>#sk-container-id-2 {color: black;background-color: white;}#sk-container-id-2 pre{padding: 0;}#sk-container-id-2 div.sk-toggleable {background-color: white;}#sk-container-id-2 label.sk-toggleable__label {cursor: pointer;display: block;width: 100%;margin-bottom: 0;padding: 0.3em;box-sizing: border-box;text-align: center;}#sk-container-id-2 label.sk-toggleable__label-arrow:before {content: \"▸\";float: left;margin-right: 0.25em;color: #696969;}#sk-container-id-2 label.sk-toggleable__label-arrow:hover:before {color: black;}#sk-container-id-2 div.sk-estimator:hover label.sk-toggleable__label-arrow:before {color: black;}#sk-container-id-2 div.sk-toggleable__content {max-height: 0;max-width: 0;overflow: hidden;text-align: left;background-color: #f0f8ff;}#sk-container-id-2 div.sk-toggleable__content pre {margin: 0.2em;color: black;border-radius: 0.25em;background-color: #f0f8ff;}#sk-container-id-2 input.sk-toggleable__control:checked~div.sk-toggleable__content {max-height: 200px;max-width: 100%;overflow: auto;}#sk-container-id-2 input.sk-toggleable__control:checked~label.sk-toggleable__label-arrow:before {content: \"▾\";}#sk-container-id-2 div.sk-estimator input.sk-toggleable__control:checked~label.sk-toggleable__label {background-color: #d4ebff;}#sk-container-id-2 div.sk-label input.sk-toggleable__control:checked~label.sk-toggleable__label {background-color: #d4ebff;}#sk-container-id-2 input.sk-hidden--visually {border: 0;clip: rect(1px 1px 1px 1px);clip: rect(1px, 1px, 1px, 1px);height: 1px;margin: -1px;overflow: hidden;padding: 0;position: absolute;width: 1px;}#sk-container-id-2 div.sk-estimator {font-family: monospace;background-color: #f0f8ff;border: 1px dotted black;border-radius: 0.25em;box-sizing: border-box;margin-bottom: 0.5em;}#sk-container-id-2 div.sk-estimator:hover {background-color: #d4ebff;}#sk-container-id-2 div.sk-parallel-item::after {content: \"\";width: 100%;border-bottom: 1px solid gray;flex-grow: 1;}#sk-container-id-2 div.sk-label:hover label.sk-toggleable__label {background-color: #d4ebff;}#sk-container-id-2 div.sk-serial::before {content: \"\";position: absolute;border-left: 1px solid gray;box-sizing: border-box;top: 0;bottom: 0;left: 50%;z-index: 0;}#sk-container-id-2 div.sk-serial {display: flex;flex-direction: column;align-items: center;background-color: white;padding-right: 0.2em;padding-left: 0.2em;position: relative;}#sk-container-id-2 div.sk-item {position: relative;z-index: 1;}#sk-container-id-2 div.sk-parallel {display: flex;align-items: stretch;justify-content: center;background-color: white;position: relative;}#sk-container-id-2 div.sk-item::before, #sk-container-id-2 div.sk-parallel-item::before {content: \"\";position: absolute;border-left: 1px solid gray;box-sizing: border-box;top: 0;bottom: 0;left: 50%;z-index: -1;}#sk-container-id-2 div.sk-parallel-item {display: flex;flex-direction: column;z-index: 1;position: relative;background-color: white;}#sk-container-id-2 div.sk-parallel-item:first-child::after {align-self: flex-end;width: 50%;}#sk-container-id-2 div.sk-parallel-item:last-child::after {align-self: flex-start;width: 50%;}#sk-container-id-2 div.sk-parallel-item:only-child::after {width: 0;}#sk-container-id-2 div.sk-dashed-wrapped {border: 1px dashed gray;margin: 0 0.4em 0.5em 0.4em;box-sizing: border-box;padding-bottom: 0.4em;background-color: white;}#sk-container-id-2 div.sk-label label {font-family: monospace;font-weight: bold;display: inline-block;line-height: 1.2em;}#sk-container-id-2 div.sk-label-container {text-align: center;}#sk-container-id-2 div.sk-container {/* jupyter's `normalize.less` sets `[hidden] { display: none; }` but bootstrap.min.css set `[hidden] { display: none !important; }` so we also need the `!important` here to be able to override the default hidden behavior on the sphinx rendered scikit-learn.org. See: https://github.com/scikit-learn/scikit-learn/issues/21755 */display: inline-block !important;position: relative;}#sk-container-id-2 div.sk-text-repr-fallback {display: none;}</style><div id=\"sk-container-id-2\" class=\"sk-top-container\"><div class=\"sk-text-repr-fallback\"><pre>LinearRegression()</pre><b>In a Jupyter environment, please rerun this cell to show the HTML representation or trust the notebook. <br />On GitHub, the HTML representation is unable to render, please try loading this page with nbviewer.org.</b></div><div class=\"sk-container\" hidden><div class=\"sk-item\"><div class=\"sk-estimator sk-toggleable\"><input class=\"sk-toggleable__control sk-hidden--visually\" id=\"sk-estimator-id-2\" type=\"checkbox\" checked><label for=\"sk-estimator-id-2\" class=\"sk-toggleable__label sk-toggleable__label-arrow\">LinearRegression</label><div class=\"sk-toggleable__content\"><pre>LinearRegression()</pre></div></div></div></div></div>"
      ],
      "text/plain": [
       "LinearRegression()"
      ]
     },
     "execution_count": 20,
     "metadata": {},
     "output_type": "execute_result"
    }
   ],
   "source": [
    "multiple_linear_regression= LinearRegression()\n",
    "multiple_linear_regression.fit(x,y)"
   ]
  },
  {
   "cell_type": "raw",
   "id": "b2b8403f",
   "metadata": {},
   "source": [
    "Şimdi b0, b1 ve b2 değerlerini görelim. b0 y ekesenini kesen değer olduğu için kesişim yani intercept_ methodu ile b0 değerini görebiliriz."
   ]
  },
  {
   "cell_type": "code",
   "execution_count": 21,
   "id": "c3098759",
   "metadata": {},
   "outputs": [
    {
     "name": "stdout",
     "output_type": "stream",
     "text": [
      "B0 değeri:  [10376.62747228]\n"
     ]
    }
   ],
   "source": [
    "print(\"B0 değeri: \", multiple_linear_regression.intercept_)"
   ]
  },
  {
   "cell_type": "markdown",
   "id": "d45c19ee",
   "metadata": {},
   "source": [
    "B1 ve B2 değerleri birer katsayı olduğu için bu coef methodu ile bu katsayılarının da değerlerini görebiliriz."
   ]
  },
  {
   "cell_type": "code",
   "execution_count": 23,
   "id": "654f588e",
   "metadata": {},
   "outputs": [
    {
     "name": "stdout",
     "output_type": "stream",
     "text": [
      "b1 ve b2:  [[1525.50072054 -416.72218625]]\n"
     ]
    }
   ],
   "source": [
    "print(\"b1 ve b2: \", multiple_linear_regression.coef_)"
   ]
  },
  {
   "cell_type": "markdown",
   "id": "98fd9297",
   "metadata": {},
   "source": [
    "Artık katsayılarımızı bulduğumuza göre asıl hedefimiz olan \"Predict\" yapabiliriz. 10 yıllık deneyimi olan ve 30 yaşında olan bir personelin maaşını ekrana yazabiliriz."
   ]
  },
  {
   "cell_type": "code",
   "execution_count": 40,
   "id": "59f5626d",
   "metadata": {},
   "outputs": [
    {
     "name": "stdout",
     "output_type": "stream",
     "text": [
      "Salary:  [[13129.96909004]\n",
      " [ 5502.46548735]]\n"
     ]
    }
   ],
   "source": [
    "print(\"Salary: \", multiple_linear_regression.predict(np.array([[10,30], [5,30]])))"
   ]
  },
  {
   "cell_type": "code",
   "execution_count": 41,
   "id": "e496162d",
   "metadata": {},
   "outputs": [],
   "source": [
    "deneme= np.array([[1,30],[2,30],[3,30],[4,30],[5,30]])"
   ]
  },
  {
   "cell_type": "code",
   "execution_count": 43,
   "id": "f170b1b2",
   "metadata": {},
   "outputs": [
    {
     "data": {
      "text/plain": [
       "[<matplotlib.lines.Line2D at 0x154814ed780>]"
      ]
     },
     "execution_count": 43,
     "metadata": {},
     "output_type": "execute_result"
    },
    {
     "data": {
      "image/png": "[encoded data removed]",
      "text/plain": [
       "<Figure size 640x480 with 1 Axes>"
      ]
     },
     "metadata": {},
     "output_type": "display_data"
    }
   ],
   "source": [
    "deneme= multiple_linear_regression.predict(deneme)\n",
    "plt.plot(deneme)"
   ]
  },
  {
   "cell_type": "code",
   "execution_count": null,
   "id": "a7d670f1",
   "metadata": {},
   "outputs": [],
   "source": []
  }
 ],
 "metadata": {
  "kernelspec": {
   "display_name": "Python 3 (ipykernel)",
   "language": "python",
   "name": "python3"
  },
  "language_info": {
   "codemirror_mode": {
    "name": "ipython",
    "version": 3
   },
   "file_extension": ".py",
   "mimetype": "text/x-python",
   "name": "python",
   "nbconvert_exporter": "python",
   "pygments_lexer": "ipython3",
   "version": "3.10.9"
  }
 },
 "nbformat": 4,
 "nbformat_minor": 5
}
